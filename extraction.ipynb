{
 "cells": [
  {
   "cell_type": "code",
   "execution_count": 1,
   "id": "35d2c590",
   "metadata": {},
   "outputs": [],
   "source": [
    "import pandas as pd"
   ]
  },
  {
   "cell_type": "code",
   "execution_count": 2,
   "id": "5b26bb9a",
   "metadata": {},
   "outputs": [],
   "source": [
    "df = pd.read_csv('datasets/dice_com-job_us_sample.csv')"
   ]
  },
  {
   "cell_type": "code",
   "execution_count": 3,
   "id": "ad20f227",
   "metadata": {},
   "outputs": [
    {
     "data": {
      "application/vnd.microsoft.datawrangler.viewer.v0+json": {
       "columns": [
        {
         "name": "index",
         "rawType": "int64",
         "type": "integer"
        },
        {
         "name": "advertiserurl",
         "rawType": "object",
         "type": "string"
        },
        {
         "name": "company",
         "rawType": "object",
         "type": "unknown"
        },
        {
         "name": "employmenttype_jobstatus",
         "rawType": "object",
         "type": "unknown"
        },
        {
         "name": "jobdescription",
         "rawType": "object",
         "type": "string"
        },
        {
         "name": "jobid",
         "rawType": "object",
         "type": "string"
        },
        {
         "name": "joblocation_address",
         "rawType": "object",
         "type": "unknown"
        },
        {
         "name": "jobtitle",
         "rawType": "object",
         "type": "string"
        },
        {
         "name": "postdate",
         "rawType": "object",
         "type": "string"
        },
        {
         "name": "shift",
         "rawType": "object",
         "type": "unknown"
        },
        {
         "name": "site_name",
         "rawType": "object",
         "type": "unknown"
        },
        {
         "name": "skills",
         "rawType": "object",
         "type": "unknown"
        },
        {
         "name": "uniq_id",
         "rawType": "object",
         "type": "string"
        }
       ],
       "ref": "adad1ec6-318d-4e9e-b4c5-71702b43827f",
       "rows": [
        [
         "0",
         "https://www.dice.com/jobs/detail/AUTOMATION-TEST-ENGINEER-Digital-Intelligence-Systems%252C-LLC-Atlanta-GA-30339/10110693/JD1?icid=sr172-6p&q=&l=Atlanta,%20GA",
         "Digital Intelligence Systems, LLC",
         "C2H Corp-To-Corp, C2H Independent, C2H W2, 3 MONTHS TO HIRE",
         "Looking for Selenium engineers...must have solid java coding skills I have several openings some 3 month to hire some 6...must be able to go PERM  This can be someone with 0-5 years of experience. Most important qualities are Eagerness and Aptitude. POSITION PURPOSE - Do you want to be on the forefront of cutting edge technology, introduce solutions to problems that didn’t exist before, and have the ability to see the result of your successes? Our client assures growth by collaborating with development teams and creating tools that aid engineers in building, testing, debugging, and releasing software. We touch millions of users by increasing the rate of development and ensuring our products are methodically tested. We are experts in software health, testability, and sustainability. As a Software Engineer in Test at our client, you can expect to build flexible and scalable solutions while working on some of the most complex challenges in large-scale computing by utilizing your skills in data structures and object oriented programming. MAJOR TASKS, RESPONSIBILITIES AND KEY ACCOUNTABILITIES - Lead and contribute to engineering efforts from planning to execution and delivery to solve complex engineering problems in tools and testing. • Design and build advanced automated testing frameworks. • Build tooling to help Developers measure and increase their velocity. • Adopt best practices in software health, testing, and sustainability. • Analyze and break down complex software systems and collaborate with Development teams to improve the overall design. NATURE AND SCOPE - • Typically reports to Manager Test Engineering • No associates report to the person in this role on a permanent basis • Analyze and resolve complex quality issues critical to solution delivery • Fast-paced environment of freedom and responsibility PREFERRED QUALIFICATIONS • Hands on Java Development experience • Proficient in Ab Initio ETL and Batch testing • Hands-on knowledge of Soap UI, ITKO Lisa, and Selenium • Hands on experience with Unix, KSH, and Bourne Shell Scripting • Strong scripting knowledge with Java, Groovy and Jmeter • Strong development experience working on web services (REST and SOAP) • Experience building test automation frameworks for web services using Soap UI, Groovy, or Lisa • Proficient in SQL • Working knowledge of SVN and Jenkins – build and development process • eCommerce/Retail QA experience • Excellent written and verbal communication skills • Self-motivated with a strong work ethic and a positive attitude • Desire to work in a fast-paced, results orientated team • Experience with a scripting language such as Perl • Passion to understand, learn, dissect and improve new technologies • Proficient in one or more of the following: Retail applications, Windows platform, UNIX platforms, JAVA, Relational Databases, Websphere Application Server, Websphere Commerce, Websphere MQ • Comprehensive understanding of systems, applications and networks KNOWLEDGE, SKILLS, ABILITIES AND COMPETENCIES - • Proficient in one or more of the following: Retail applications, Windows platform, UNIX platforms, MVS COBOL, JAVA, J2EE, Relational Databases, Websphere Application Server, Websphere Commerce, Websphere MQ, Networking (Voice, LAN, WAN), SAP, Siebel, Peoplesoft • Comprehensive understanding of systems, applications and networks • Strong problem solving and analytical skills • Strong oral and written communication skills • Ability to coordinate and collaborate across cross-functional teams ",
         "Dice Id : 10110693",
         "Atlanta, GA",
         "AUTOMATION TEST ENGINEER",
         "1 hour ago",
         "Telecommuting not available|Travel not required",
         null,
         "SEE BELOW",
         "418ff92580b270ef4e7c14f0ddfc36b4"
        ],
        [
         "1",
         "https://www.dice.com/jobs/detail/Information-Security-Engineer-University-of-Chicago%2526%252347IT-Services-Chicago-IL-60637/10114469/100028?icid=sr3214-108p&q=&l=Chicago,%20IL",
         "University of Chicago/IT Services",
         "Full Time",
         "The University of Chicago has a rapidly growing security program with many opportunities for a motivated person to work in a variety of roles and many technical areas.  This position is responsible for providing incident response, information security assessment, monitoring, and system administration under the general direction of the Information Security Officer and the Lead Information Security Engineer. Essential Functions: Execute IT Security Network Monitoring and Incident Response procedures. Lead or participate in IT Security projects. Administer IT Security systems, including updates, backups, and upgrades Consult, advise, and provide security assessment services to application development or acquisition projects to assess security requirements and controls and to ensure that security controls are implemented as planned. Research security issues and contribute to IT Security communications, web pages, blogs, and awareness materials. Document internal processes, write security standards and guidelines. Other duties as assigned  Qualifications:Bachelor's degree OR a minimum of four years of experience in the Information Technology field OR an equivalent combination of education and experience required.  Minimum two years of professional experience in a technical Information Security role required. Experience administering linux/unix systems is required. Experience administering Windows systems is preferred. Experience with programming or scripting languages such as Perl or Python strongly preferred.  The University of Chicago is an Affirmative Action/Equal Opportunity/Disabled/Veterans Employer and does not discriminate on the basis of race, color, religion, sex, sexual orientation, gender identity, national or ethnic origin, age, status as an individual with a disability, protected veteran status, genetic information, or other protected classes under the law. For additional information please see the University's Notice of Nondiscrimination.Staff Job seekers in need of a reasonable accommodation to complete the application process should call 773-834-1841 or email talentacquisition@uchicago.edu with their request.",
         "Dice Id : 10114469",
         "Chicago, IL",
         "Information Security Engineer",
         "1 week ago",
         "Telecommuting not available|Travel not required",
         null,
         "linux/unix, network monitoring, incident response, systems administration, security accessment",
         "8aec88cba08d53da65ab99cf20f6f9d9"
        ],
        [
         "2",
         "https://www.dice.com/jobs/detail/Business-Solutions-Architect-Galaxy-Systems%252C-Inc.-Schaumburg-IL-60193/CXGALXYS/2016-7082?icid=sr3600-120p&q=&l=Chicago,%20IL",
         "Galaxy Systems, Inc.",
         "Full Time",
         "GalaxE.SolutionsEvery day, our solutions affect people throughout the world. From Fortune 100 companies to start-ups, GalaxE develops and implements strategic projects that are critical to the success of customers’ businesses and the lives of tens of millions of people. For over twenty-five years, we have grown and evolved into a multi-national firm that employs over 2000 team members worldwide. But we’re not done evolving. It took collaboration and innovation to get here, and it takes collaboration and innovation to get where we (and our customers) want to be tomorrow.   What does this mean for our employees? They have the security of an established company, with the benefits of working for a company where great minds, hard work, leadership and innovation are highly regarded and rewarded. As Thomas Edison said, “There’s a way to do it better – find it”. We want our employees to find it. We’re looking for creative people, with an entrepreneurial spirit, looking to work on awesome projects! Sound like you? Come work with us! Find out for yourself what it means to be part of the GalaxE team. It’s not always easy, but important work never is. #WeAreGalaxE  Develop a practical roadmap for an enterprise-wide BI reporting and analytics platform with consideration to business objectives, technological considerations and budget. Define the overall BI data architecture which could include: ETL processes, ODS, EDW, data marts and data lakes.Provide BI technical and architectural guidance to project and project teams to ensure that new initiatives enable effective data reporting.Develop new reporting solutions if requiredIdentify, evaluate, and provide proposals for solutions to identified process and data quality issuesDocument best practices and methodologies for development standards, data governance, version control, deployment and change management.Perform quality assurance testing of reports and dashboards, and perform user acceptance testing (UAT). Technical Experience:   Core understanding of Business Intelligence / data warehousing technologies, methodologies, and techniques of: data discovery, data sources, presentation layer, etc., with proven experience with delivering successful solutionsExcellent knowledge of data warehouse principles and reporting.Experience in the design and building of enterprise data warehouses.Extensive experience in BI report, web and mobile dashboard development. Experience in multiple database platformsExperience with data analysis, assessing data quality and developing corrective actionsThorough understanding of complex large scale data modelsUnderstanding of common SDLC practices/methodologiesExperience working with end users to gather requirementsExperience using data discovery toolsUnderstanding of RDBMS  ",
         "Dice Id : CXGALXYS",
         "Schaumburg, IL",
         "Business Solutions Architect",
         "2 weeks ago",
         "Telecommuting not available|Travel not required",
         null,
         "Enterprise Solutions Architecture, business inteligence, reports, reporting",
         "46baa1f69ac07779274bcd90b85d9a72"
        ],
        [
         "3",
         "https://www.dice.com/jobs/detail/Java-Developer-%2528mid-level%2529%2526%252345-FT%2526%252345-GREAT-culture%252C-modern-technologies%252C-career-growth-TransTech-LLC-Bolingbrook-IL-60440/10113627/536964?icid=sr3495-117p&q=&l=Chicago,%20IL",
         "TransTech LLC",
         "Full Time",
         "Java DeveloperFull-time/direct-hireBolingbrook, IL Our client is a leading edge software development organization in a unique and interesting industry, and will provide training to help in on boarding.   They have an excellent culture which is energetic, challenging, team oriented, casual (jeans are OK), have work/life balance, and an outstanding benefits package. They encourage communication and have an atmosphere where creative bright minds are rewarded.  They are looking for a Java Developer to join their company.  This position will give someone the ability to have input in to systems design and grow with the company.  This person will work with a team that is focused on the development and maintenance of various applications supporting their clients.  This position will be building applications from scratch and be very involved in the implementation process.  The ability to communicate and work directly with clients is essential. The successful candidate will be a self-directed problem solver with experience in application design, Java/JDBC development, and multi-threading. If you are interested, please email your resume or contact KGalecki@TransTechIT.com Overview:The primary application this person will initially be working on serves as a middle tier; backed by a relational database (Oracle, SQL Server, MySQL) via JDBC, and fronted by the company’s transaction-based law enforcement message switch via proprietary TCP/IP protocols. Primary Responsibilities:- Develop robust, high performance, flexible applications- Analyze and diagnose application errors- Write application documentation- Clearly communicate status to management Required Skills:- Core Java with experience creating JDBC interfaces to relational Databases- Multithreading (basic experience)- Able to develop and work on a Linux, AIX, or a Unix derived OS - SQL- Socket level messaging (basic experience)- Understanding of data structures- Self-directed problem solving- Be able to clearly communicate both verbally and in writing- Bachelors Degree in Computer Science Preferred Skills:- C and/or C++ - Knowledge of one or more scripting languages- Experience with some type of version control tool, preferably a DVCS- Socket level messaging Non-Technical Requirements:- Must be able to pass state and federal background checks for all states in the union- Willingness to travel throughout the United States as required (less than 20%)- Minimum 3 years relevant experience ",
         "Dice Id : 10113627",
         "Bolingbrook, IL",
         "Java Developer (mid level)- FT- GREAT culture, modern technologies, career growth",
         "2 weeks ago",
         "Telecommuting not available|Travel not required",
         null,
         "Please see job description",
         "3941b2f206ae0f900c4fba4ac0b18719"
        ],
        [
         "4",
         "https://www.dice.com/jobs/detail/DevOps-Engineer-Matrix-Resources-Atlanta-GA-30301/matrixga/110801?icid=sr64-3p&q=&l=Atlanta,%20GA",
         "Matrix Resources",
         "Full Time",
         "Midtown based high tech firm has an immediate need for an innovative DevOps Engineer to help define Dev / Ops related processes, build out the automation.  In this position, the Dev / Ops Engineer will need to engineer technical solutions as well as perform process engineering. The ideal candidate has strong scripting skills for automation as well experience with configuration management, server deployment, and continuous integration and experience with tools such as Chef, Puppet, etc.  Must have experience with virtualization using VMware and Linux experience is preferred.  Experience with GO, Docker, Ansible, Microservices, and the Cloud are highly desired.   This is a permanent position with an innovative technology firm in Midtown that offers excellent benefits including bleeding edge technology, very generous PTO, matching 401(k), high-tech office environment, casual dress and a collaborative culture.  Need is IMMEDIATE!!    Category: Developer / Architect -Other",
         "Dice Id : matrixga",
         "Atlanta, GA",
         "DevOps Engineer",
         "48 minutes ago",
         "Telecommuting not available|Travel not required",
         null,
         "Configuration Management, Developer, Linux, Management, Process Engineering, VMware",
         "45efa1f6bc65acc32bbbb953a1ed13b7"
        ],
        [
         "5",
         "https://www.dice.com/jobs/detail/SAP-FICO-Architect-Yash-Technologies-Chicago-IL-60601/10111847/550818?icid=sr3492-117p&q=&l=Chicago,%20IL",
         "Yash Technologies",
         "Full Time, Permanant",
         "We are looking for a Senior SAP FICO Architect to join us fulltime and support our ongoing projects and customers. Must have excellent Pre-sales experience.Consultant should be ready for 100% travel. If interested, Please send us your updated resume, best time and contact numbers to girish(dot)bandaru(at)yash(dot)com to discuss more on this opportunity. Thanks & Regards Girish BandaruYASH Technologies773-828-4341girish.bandaru@yash.com",
         "Dice Id : 10111847",
         "Chicago, IL",
         "SAP FICO Architect",
         "2 weeks ago",
         "Telecommuting not available|Travel required to 100%.",
         null,
         "FICO, AR, AP, Asset Management, HAHA",
         "e0ac9d926dda5e95162ef05adea7318c"
        ],
        [
         "6",
         "https://www.dice.com/jobs/detail/Network-Engineer-Noble1-Atlanta-GA-30301/90884761/211?icid=sr242-9p&q=&l=Atlanta,%20GA",
         "Noble1",
         "Full Time, Direct Hire",
         "Network Engineer Job Description A Network Engineer is responsible for analyzing, designing, installing, configuring, maintaining and repairing of network infrastructure and application components. A Network Engineer performs a wide variety of evaluation, maintenance, installation and training tasks to ensure the computer network performance meets company and user satisfaction. A Network Engineer also provides direction, information, and recommendations regarding network configurations and installations. PRIMARY DUTIES AND RESPONSIBILITIES:   * Maintain a thorough understanding of the basics behind the Internet and its workings (DNS, Security, IP Routing, HTTP, VPN, Email Routing, SPAM, etc.) * Configure and setup Cisco Firewalls, VPN Concentrators and Security appliances for access to vital business applications * Design, setup and configure complex switching environments * Design, setup and configure complex wireless networking that supports open or secured access and the ability to support voice and video applications * Maintain a thorough understanding of Local Area Networking * Assist in the design of multi-server environments including IP address schemes, DNS, WINS, EtherChannel (Bonding), etc. * Configuring and installing client and server network software for upgrading and maintaining network and telecommunication systems. * Maintaining multi-site network operations and software applications, operating systems and regular maintenance with both private and public facilities * Managing assigned projects and program components to deliver services in accordance with established objectives. * Responding to inquiries from staff, administrators, service providers, site personnel and outside vendors and etc. to provide technical assistance and support * Supervising the administration of systems and servers related network to ensure availability of services to authorized users.  Date Posted: 06/10/2016",
         "Dice Id : 90884761",
         "Atlanta, GA",
         "Network Engineer",
         "1 hour ago",
         "Telecommuting not available|Travel not required",
         null,
         "Cisco, DNS, HTTP, Networking, Network Engineer, Security, Video, VPN, Wireless",
         "e7e326053c586bd94e59f1fd74de4a1b"
        ],
        [
         "7",
         "https://www.dice.com/jobs/detail/Sr.-Web-Application-Developer-%2528Cloud-Team%2529-%2526%252345-Chicago-Bluebeam-Software%252C-Inc.-Chicago-IL-60611/10110132/377813?icid=sr3452-116p&q=&l=Chicago,%20IL",
         "Bluebeam Software, Inc.",
         "Full Time, Full Time",
         "Bluebeam is looking for talented sr. web developers with a passion for building robust, performant, scalable, high availability web applications. You should have extensive web development experience including designing RESTful services utilizing relational and no-sql databases in a testable framework.  Want a peek at who you would be working with? Our software developers are friendly, fun, intelligent, hard-working team members devoted to developing software right.  They have an ability to see the big picture throughout the design and development process.  We are highly-collaborative so you should have a capacity to contribute to and learn from the team in constructive debates in order to coalesce multiple points of view into effective unified solutions.  We work in small fast-paced scrum-agile teams. You would be working alongside software engineers, and product and project managers who are self-starters passionate about delivering clean, dependable software solutions.  To work well with the team you should have an ability to clearly articulate solutions to complex problems both to technical and non-technical people.   What we'd need to see:5+ years of experience in a related field (Candidates will be considered for engineer or senior engineer based on experience)Bachelor’s degree or higher in a computer science or equivalent fieldExtensive use of APIs and understanding of HTTP and REST architectureExperience using OO methodologies in designing software solutionsStrong understanding of design patternsProven ability to work in a rapid release production environmentFull understanding of the SDLC Experience with developing scalable software systemsAbility to clearly articulate solutions to complex problems; when developing solutions, ability to see the big picture What we’d love to seeComfort with working in an Agile/SCRUM environmentProven Web Development experience in .NET technologies, particularly C# and Web APIUnderstanding of machine learning algorithmsExperience with cloud technologies such as Azure or AWSExperience developing microservice-based architecturesAbility and propensity to generate and share extremely delicious baked goods  If you think you are a good match for Bluebeam, please send the following:Cover Letter (Try to show us who you are.  If you send us the generic one you send to everyone else, we will be bummed.)ResumeSamples of your web development work (Be prepared to discuss) Learn more about Bluebeam here: http://careers.bluebeam.com/. ",
         "Dice Id : 10110132",
         "Chicago, IL",
         "Sr. Web Application Developer (Cloud Team) - Chicago",
         "2 weeks ago",
         "Telecommuting not available|Travel not required",
         null,
         ".NET , C#, MVC, RESTful web services, HTTP, AWS, Azure, OOP",
         "b0dadecf4c3c2beecb9c773ca11ecda4"
        ],
        [
         "8",
         "https://www.dice.com/jobs/detail/Front-End-Developer-Genesis10-New-York-NY-10001/gentx001/16-03932?icid=sr14288-477p&q=&l=California,%20Us,%20CALIFORNIA",
         "Genesis10",
         "Full Time, Direct Placement",
         "This is a fulltime position for a Javascript developer for a financial software, data, and media company. This role is based our of the Midtown, NY location (candidates must work onsite). You'll be part of a team working on the application that is the glue that holds the firm's main product together and is used as a communication tool, a price dissemination system and a way to receive information from all other applications within the firm. Responsibilities:   Help us design, create and build our next-generation user interface Be a key contributor in the re-architecting of our application service layers to improve our scalability, stability and performance Work with the team, our product and our customers to define priorities and the technology we use Work with other teams and learn about our search infrastructure, core databases and how we support hundreds of applications through our APIs Required Skills and Experience:   3+ years of production-level development Solid JavaScript knowledge Must want to and like working on UI Preferred:   An understanding of C++ fundamentals Experience working on other highly visible applications  Start Date: 06/03/2016",
         "Dice Id : gentx001",
         "New York, NY",
         "Front End Developer",
         "7 hours ago",
         "Telecommuting not available|Travel not required",
         null,
         "C++, Developer, Development, JavaScript, User Interface",
         "28f5e0c1cc3314813e674f0c32b04d1b"
        ],
        [
         "9",
         "https://www.dice.com/jobs/detail/Application-Support-Engineer-VanderHouwen-%2526-Associates%252C-Inc.-Seattle-WA-98104/vhassoc/31191-1807-MH58?icid=sr14604-487p&q=&l=California,%20Us,%20CALIFORNIA",
         "VanderHouwen & Associates, Inc.",
         "C2H W2, Contract to hire",
         "SummaryOur client is the leading provider of online video publishing and management solutions * millions of media files and process millions of hits per day. Media companies rely on their cloud-based video platform as their open, central hub for managing, monetizing, and syndicating billions of internet video views each year. Our client*s services provide unmatched versatility for designing and supporting streaming video businesses on PCs, mobile devices, and TV. Some of their customers include SyFy, Fox Sports Network, NBC Sports, National Geographic, Comcast, British Telecom, Travel Channel, and more. They are looking for an Application Support Engineer (or a Junior Technologist) to join a growing team to provide support to our high profile media customers. The Application Support Engineer is a technical detective * not only do they diagnose and investigate customer issues, they are also responsible for understanding how each of the services within the client Service Oriented Architected environment work together, as well as ensuring that the overall health of our services is maintained. The ideal ASE is required to have solid written and verbal communication skills, a strong technical mindset, and a knack for solving problems. If your ideal job is to read a list of steps and perform them in order, this is not the job for you. The ASEs like to get their hands dirty and figure things out themselves. If a customer reports an issue, our ASEs dive right in and root out the cause. They're the type of people who get a new toy and take it apart to figure out how it works. They don't need an instruction manual. Every day in the life of our ASE is different from the last. One day, you may be in charge of investigating a complex customer issue that requires diving into custom Java code. The next, you may be tasked with monitoring system health and investigating environmental issues that arise. After that, you may be debugging a Flash, iOS, or HTML5 player for a high profile client.ResponsibilitiesOperate and support a suite of Java-based Web Services. Work with ticketing system to respond to customer issues.Work with internal team to monitor, isolate and resolve customer-impacting conditions in multiple data centers.Diagnose problems with our Web-based enterprise applications.Documentation of processes involved with support duties for internal customers and end-users.Contribute in writing and in person to root cause analysis. Participate in the development and testing of internal tools, scripts and other coding projects to interface with RESTful Web Services.Support deployment of enterprise web services in multiple data centers.Act as Incident Response point communicating incident status regularly to internal and external customers.Work closely with internal teams and third party providers to deliver highly available, performant web services for customers. Work with application developers, network operations, and our QA team to troubleshoot and isolate service issues. Diagnose and analyze content issues reported by clients. Support and diagnose playback issues on mobile Apps for Windows Mobile, iOS, Androids, tablets, and any future device.QualificationsA keen analytical, structured and detail-oriented approach to problem solving and troubleshooting. Customer-first attitude and strong written and verbal communication skills. Adept and comfortable working in a rapidly changing environment required.Foundational knowledge of the HTTP and client/server interactions. Experience working with and supporting web based services and applications.Experience using HTTP debugging tools. Strong foundation in one or more of following technologies desired: Java, Groovy, Ruby, JavaScript, and JQuery.Foundational knowledge of Linux OS and command line operations.Fundamental knowledge of video codecs, containers, and formats.Bonus Experience:Video encoding and transcoding systems administration and operation.Familiarity with shell scripting and GNU tools.Experience with Splunk or other log-based troubleshooting tool a plus.",
         "Dice Id : vhassoc",
         "Seattle, WA",
         "Application Support Engineer",
         "7 hours ago",
         "Telecommuting not available|Travel not required",
         null,
         "(See Job Description)",
         "95c9127e2770172f454f3b83981eaa88"
        ],
        [
         "10",
         "https://www.dice.com/jobs/detail/OpenStack-Engineer--%2526%252345-12185-Maxonic%252C-Inc.-Sunnyvale-CA-94085/10108942/12185?icid=sr14479-483p&q=&l=California,%20Us,%20CALIFORNIA",
         "Maxonic, Inc.",
         "Full Time",
         "JOB DESCRIPTION:As a senior member of the team, you will be responsible to provide technical leadership to Development and QA to deploy, operate, maintain and evolve our Openstack based cloud infrastructure in private cloud. We are looking for someone who has passion for developing scalable, secure and enterprise-grade deployments and enjoys working with a team of dedicated engineers. Responsibilities: Evolve Openstack based infrastructure, server deployment strategies and testing to support our goal of 100% up-time and quick turnaround of deployments for the engineering organization.Work closely with Development and QA engineers to build a robust Openstack based cloud solution.Develop and document the best practices for deploying Cloud solutions.Design and develop new features in Openstack infrastructure.Requirements:3+ years’ experience in architecture, design and deploying private cloud solutions with Openstack.Proficiency in Openstack components and technologies. Experience with automated scalable deployments will be a big plus.Familiarity with Openstack systems management concepts, processes and standards; capacity/performance management and tuning; and storage and network managementExperience with automation using configuration management tools. Experience with Salt will be a big plus.Experience with scripting languages. Proficiency in Python will be a big plus.Experience across the entire software development lifecycle from requirements analysis to design to development to test and integration. Position logistics:Candidates must be currently authorized to work in the USFulltime Permanent positionLocal candidates strongly preferred About the Client:This client has produced a range of award winning security and cloud solutions that are at the forefront of where these two domains meet.  They have been profitable and dynamic because of the supremely qualified team that they have developed and hired.  They are currently privately held. About Maxonic:Since 2002 Maxonic has been at the forefront of connecting candidate strengths to client challenges.  Our award winning, dedicated team of recruiting professionals are specialized by technology, are great listeners, and will seek to find a position that meets the long term career needs of our candidates.  We take pride in the over 5,000 candidates that we have placed, and the repeat business that we earn from our satisfied clients. Interested in Applying?We can’t wait to see your resume!  Please apply below with your most current resume and anything else you’d like us to know about you – commute preferences, desired work environments, etc.  We promise to get back to you within 24 hours.  You should also feel free to email Nina Schindler (nina@maxonic.com) or call 408-739-4900 x 123. ",
         "Dice Id : 10108942",
         "Sunnyvale, CA",
         "OpenStack Engineer - 12185",
         "7 hours ago",
         "Telecommuting not available|Travel not required",
         null,
         "Openstack",
         "5e0ff38f5eaf44726f4e3d1dd257a244"
        ],
        [
         "11",
         "https://www.dice.com/jobs/detail/9001-Data-Security-Administrator-%2526%252345-Unix-%2526-IAM-CSI-%2528Consultant-Specialists-Inc.%2529-Highlands-Ranch-CO-80129/10106409/9001DataSecUnix?icid=sr14315-478p&q=&l=California,%20Us,%20CALIFORNIA",
         "CSI (Consultant Specialists Inc.)",
         "Full Time, Contract Corp-To-Corp, Contract Independent, Contract W2, 12 Months",
         "Must have skills: UNIX, IAM (Identity Access Management), Scripting knowledge, and 5+ years of total experience in this role required. OIM (Oracle Identity Manager) or other similar tools are required. The ideal candidate has worked as a Systems Administrator and/or Information Security Analyst in the past.Nice to have skills: Knowledge of SQL, coding languages, and Windows are really nice to have. Active Directory is also really nice to have. DescriptionThe ideal candidate for this position will be a proactive and self-motivated professional who will work with other team members to manage access controls for our client's key information resources residing on multiple platforms, with a focus area in Windows, UNIX, Linux. The successful candidate will have strong scripting skills to support the automation effort within the team. Education/Experience:• Bachelor degree in computer management, information security or equivalent job experience• CISSP, CISA, CISM and other comparative information security certifications are preferred• 5 to 7 years computer security experience required Responsibility level:• Provide support in account provision and de-provision in Windows and UNIX systems in Active Directories/UNIX Enterprise Directories• Complete access request processing as per pre-defined sets of procedure and within agreed Service Level Agreements (SLA), resolve problem tickets and assist other security analysts as needed• Document access management procedures for assigned platforms, databases and applications; keep the access management procedures up-to-date• Proactively identify audit and compliance access related issues to reduce the risk of security exposures on the support systems and applications; coordinate access management related audit and compliance tasks, such as user access reporting and other relevant research and investigation• Flexibility to work adjusted hours, after hours and weekends to accommodate and support the existing servers/applications maintenance windows• Identify process automation opportunities on existing access management practice.• Work with team members to design and develop solutions to streamline and automate existing manual process• Flexibility to work adjusted hours with Global Team members as needed to support training and processing needs.• Exercises independent judgment with minimal direction from supervisor Qualifications/Requirements:• Detailed knowledge of the security sub-subsystems and 3rd party security products such as Oracle Identity Manager(OIM), Random Password Manager (RPM), Active Roles Servers(ARS), Etc.,• Subject matter expert on UNIX and database security products and their use on protecting information resources• Ability to gather and document business requirements and implement solutions to address them• Good working knowledge of Identity Access Management lifecycle and processes• Understanding of information security principles and IT infrastructure including operating systems, applications, communications and network protocols.• In-depth and proven knowledge in building automated solutions using various coding languages (Java, C#, VBA, vbscript, Perl and Shell script, etc.) is really nice to have.• The ability to work effectively with other functional areas and understand the operational and cultural issues relevant to achieving superior results• Must be flexible and able to manage multiple tasks and priorities on very tight deadlines.• Be a self-motivated and results oriented individual with an attention to driving aggressive project timelines and schedules• Ability to work independently and in collaboration with others to achieve a high level of success• Strong interpersonal and collaboration skills with the ability to develop, maintain and foster constructive relationships with others• Dynamic, hard-working and ambitious individual, with excellent oral and written communication skills• Have an attention to detail and advanced analytical and troubleshooting skills",
         "Dice Id : 10106409",
         "Highlands Ranch, CO",
         "9001 Data Security Administrator - Unix & IAM",
         "7 hours ago",
         "Telecommuting not available|Travel not required",
         null,
         "Unix, IAM, Scripting knowledge, OIM, Windows, Linux",
         "e4a1ff1b6c0fda5f345e57cf1acb40dd"
        ],
        [
         "12",
         "https://www.dice.com/jobs/detail/Software-Engineer-Manager-VanderHouwen-%2526-Associates%252C-Inc.-Portland-OR-97214/vhassoc/31277-1807-MH58?icid=sr14561-486p&q=&l=California,%20Us,%20CALIFORNIA",
         "VanderHouwen & Associates, Inc.",
         "Full Time, Full time",
         "VanderHouwen has more jobs you may like!  Find them here: http://bit.ly/1RIQfgE PLEASE JOIN OUR TALENT NETWORK: http://bit.ly/vhatalentnetwork  Joining the Talent Network with VanderHouwen & Associates (VHA) will enhance your job search and application experience. Job listings are mobile-friendly and easy to review, share, or apply. Whether you choose to just leave us your information or apply, we look forward to connecting with you. SummaryOur client is seeking an engineering manager to lead a team of 3*6 engineers working on the server side of our industry-disrupting clearing platform.Ideal candidate will be:Experienced. Have extensive experience building back-end applications and services, and managing engineersPassionate. Driven to improve your managerial skill set every day. Keen to solve interesting problems with creative and simple solutions.Pragmatic. Would rather deliver a 40% solution in two weeks than an 80% solution in six.Introspective. You recognize your strengths and seek to maximize them. You recognize your weaknesses and work around them.A good team member. We believe in the profound impact that*s possible when teams of like-minded individuals set their sights on a common goal.A mentor and coach. You embrace the role of teaching and helping others get better.ResponsibilitiesManage staffing and career development of a distributed team.Represent cultural values and coach team members.Build a team that is results-oriented and collaborative.Deliver great software in a predictable and transparent way.Hire software engineers and software engineers in test.Evaluate business needs and effectively prioritize work.Qualifications RequiredFour years of professional software engineering experience.Four years of software engineering management experience.Experience with agile software development practices.Readiness to travel occasionally.Qualifications Preferred Java and OSS fluency.Deep technical competence.Experience with service-oriented architectures.Financial services background.",
         "Dice Id : vhassoc",
         "Portland, OR",
         "Software Engineer Manager",
         "7 hours ago",
         "Telecommuting not available|Travel not required",
         null,
         "Java, OSS",
         "d0c81a2e3e5d666f3d730f1048c49132"
        ],
        [
         "13",
         "https://www.dice.com/jobs/detail/Sales-Engineer-%2526%252345-Los-Angles-Genesis10-Los-Angeles-CA-90001/gentx001/16-03987?icid=sr14366-479p&q=&l=California,%20Us,%20CALIFORNIA",
         "Genesis10",
         "Full Time, Direct Placement",
         "Genesis10 is currently seeking a Sales Engineer for a steel company in Los Angeles , CA. This is a direct hire position. Summary This position leverages strong commercial and technical skills and industry experience to recognize customer needs and apply the company capabilities and technology across the full portfolio of the products and services. Responsibilities:   * Fully understands and leverages the company value proposition to maximize price and sales to grow and protect business * Successfully eliminates price as an objection when delivering new products or projects * Expected to demonstrate leadership skills by influencing, driving for results, and resource commitment * Provide customer expertise including leading customer negotiations, developing pricing strategies, and managing a portfolio of business accounts * Ownership of the technical relationship with customers by providing consistent and expert technical support, across the Timken portfolio of products and service, additional expertise in areas required for assigned customers when necessary. * Manage sales process for assigned customer accounts or territory * Makes target number of customer calls and attains sales targets * Delivers high-impact customer presentations that focus on capabilities, solutions and value proposition * Works with Customer Engineering on complex system analyses, including bearing selection on non-standard part number or types * Develop customer-based sales plan including sales, won/lost busines, plans to maximize pricing, new business attainment * Actively gather and submit customer and market knowledge into monthly demand planning process * Ability to assume leadership role in the regional office such as pricing authority, participating in joint sales calls, mentoring sales engineers, etc... * Shares knowledge and mentors associates, espcially in solving problems and decision making * Develops and delivers customer-training or internal training presentation Required Skills:   * Bachelor of Engineering or Master of Engineering and Business * 4 to 8 years of working with or responsibility for progressively more complex projects that involve both commerical and technical issues * Extensive background in working with customers and developing long-term customer relationships and partnerships Desired Skills:   * Bilingual candidate preferredIf you have the described qualifications and are interested in this exciting opportunity, apply today! About Genesis10:   Genesis10 is a leading U.S. business and technology consulting firm with hundreds of clients needing proven talent and solutions to power their strategic initiatives. If you are a high performing business or IT professional with solid, referenced experience, we want to meet you. Genesis10 recruiters and delivery professionals are highly accomplished career advocates, who get to know you beyond your resume to position you with the opportunities that fit your skills, experience and aspirations. We have benefit options to fit your needs and a support staff that works with you from placement throughout your engagement project after project. To learn more about Genesis10 and to view all our available career opportunities, please visit us at www.genesis10.com. Genesis10 is an Equal Opportunity Employer, M/F/D/V  Start Date: 06/07/2016",
         "Dice Id : gentx001",
         "Los Angeles, CA",
         "Sales Engineer - Los Angles",
         "7 hours ago",
         "Telecommuting not available|Travel not required",
         null,
         "Consulting, Project, Sales, Sales Engineer",
         "51279d060da242e3baea98b26ddd641e"
        ],
        [
         "14",
         "https://www.dice.com/jobs/detail/Project-Manager-VanderHouwen-%2526-Associates%252C-Inc.-Hillsboro-OR-97124/vhassoc/31269-1807-MH58?icid=sr14701-491p&q=&l=California,%20Us,%20CALIFORNIA",
         "VanderHouwen & Associates, Inc.",
         "Contract W2, Contract",
         "VanderHouwen has more jobs you may like! Find them here:http://bit.ly/1RIQfgE PLEASE JOIN OUR TALENT NETWORK: http://bit.ly/vhatalentnetworkJoining the Talent Network with VanderHouwen & Associates (VHA) will enhance your job search and application experience. Job listings are mobile-friendly and easy to review, share, or apply. Whether you choose to just leave us your information or apply, we look forward to connecting with you. SummaryOur client is looking for a Project Manager to join the team looking to expand services offered device wide. This project is in flight in the implement and roll out phase. They need someone who can hit the ground running and help carry this across the finish line.ResponsibilitiesDrive / Facilitate conversations.Schedule meetings.Clarify tools used for Project Management (MS Project, etc.)Take over presented tasks.QualificationsPMP preferred but not required.Familiarity with multiple device management.Recent Mobile Device experience required.Familiarity and adaptability to new and emerging technologies.",
         "Dice Id : vhassoc",
         "Hillsboro, OR",
         "Project Manager",
         "7 hours ago",
         "Telecommuting not available|Travel not required",
         null,
         "mobile device",
         "48b7ca0c2f6191fb48e7ecf19fbd3322"
        ],
        [
         "15",
         "https://www.dice.com/jobs/detail/Windows-System-Administrator-Eastridge-Workforce-Solutions-Las-Vegas-NV-89119/eastsd/43978-28-MH1480?icid=sr14065-469p&q=&l=California,%20Us,%20CALIFORNIA",
         "Eastridge Workforce Solutions",
         "Full Time, contract-to-hire",
         "Windows Systems Administrator The Windows Systems Administrator will play a technical leadership role in a 24x7 highly-available production environment. The ideal candidate will be self-motivated and articulate, recognized as an expert with Microsoft operating systems, Win NT, 2K and 2K3, related software technologies, and have a proven history of using administrative tools and automating routine administration tasks.Day-to-day responsibilities include:Must be able to work independently to troubleshoot, perform root cause analysis, identify and isolate technical issues. Must be willing to take ownership of the issue analysis and resolution efforts and commit to \"doing what it takes\" to resolve technical issues regardless of the effort or timeframe required. Triaging as necessary for production, QA & development environments.5+ years overall experience with at least the last 2 years focused on providing technical support across a broad range of Microsoft technologiesMentor SA1 & SA2: thought leadership and setting positive examplesCapable of performing design, test and implementation of complex technical solutions and architectureAbility to lead and manage system initiatives and new projectsTroubleshooting issues related to production systems, triaging as necessary for production, QA & development environments.Work with external vendors/consultants to diagnose complex problems and drive resolutionResolve errors and alarms quickly and provide timely escalationComplete tasks required to maintain service levels and availability of all site features and functionsHelp define and support process improvementsFull-time position with on-call dutiesJob Requirements 6+ years work experience as Windows Server AdministratorMust have experience implementing and managing 75+ server environments (with server-class hardware & peripherals), located in multiple datacentersExpert understanding of and experience with Microsoft operating systems, Active Directory & Domain architecture, NTFS permissions, WINS, DNS, OS security, and systems patchingExpert understanding of and experience with IIS, Microsoft Exchange, and/or Microsoft SQL. Strong understanding of networking - routing, subnets, UDP, TCP, IP, & VLANsStrong scripting skills - PERL, batch, shell and/or VBStrong experience with NAS and/or SAN.Strong experience with implementing and using systems monitoring software (e.g. Microsoft Operations Manager)Must have experience with defining or testing disaster recovery strategiesMust have strong communication skills and ability to work individually, within a team, with other groups and with customers.Strong ability to manage vendor relationships, including contracts, negotiations, and service levels. Must have ability to communicate complex technical problems concisely and professionally to technical and non-technical audiences.Proven problem solving skills with an emphasis on quick problem resolutionAbility to work on many tasks simultaneously in a high-pressure environmentUnderstanding and experience architecting Exchange 2003 or newerExperience working in a multi-server environment is required with knowledge of clustering technologies and strategies. Previous experience with providing support for remotely connected customers and the associated technologies (e.g., Citrix, Cisco PIX) is required.Understanding of or experience supporting web serversUnderstanding of or experience with backup software and recovery strategiesUnderstanding of or experience supporting .NET applicationUnderstanding of or experience supporting Oracle or other database platforms. Education Bachelors in an engineering discipline, or Technical certification in Win NT or Win 2K/2K3, or equivalent work experience. Microsoft certifications are highly desirable.",
         "Dice Id : eastsd",
         "Las Vegas, NV",
         "Windows System Administrator",
         "7 hours ago",
         "Telecommuting not available|Travel not required",
         null,
         "(See Job Description)",
         "9e5704d08bc07ddb6df9ef98b223b036"
        ],
        [
         "16",
         "https://www.dice.com/jobs/detail/Test-Lead-%2526%252347-Test-Manager-Collabera-Atlanta-GA-30303/10208346J/2290_Remote_QA?icid=sr14343-479p&q=&l=California,%20Us,%20CALIFORNIA",
         "Collabera",
         "Contract W2",
         "Location Atlanta, GAJob Title Test Lead / ManagerDuration 6 Months + High possibility of ExtensionRequired Skills: * 4+ years of experience in Software Testing and Quality Assurance.* Good communication skills* Good understanding of Telecom Network* Good knowledge and experience on preparing Test Plan and Test Strategy documents.* Great understanding of Defect detecting, tracking and reporting techniques.* Excellent Logical and Reasoning skills with keen eye to detail.--------------------------------------------------------------------------------------------------------------------------------------------Submit your resume on this position by clicking Apply button on this page or call Utpal @ 973-841-2390 and email: utpal.raj@collabera.com to contact recruiter to discuss details about this position--------------------------------------------------------------------------------------------------------------------------------------------",
         "Dice Id : 10208346J",
         "Atlanta, GA",
         "Test Lead / Test Manager",
         "7 hours ago",
         "Telecommuting available|Travel not required",
         null,
         "QA",
         "e4dceaaaaae37ca6eabb04a7d42498b4"
        ],
        [
         "17",
         "https://www.dice.com/jobs/detail/Principal-Application-Analyst%2526%252345Supply-Chain-Lawson-VanderHouwen-%2526-Associates%252C-Inc.-Beaverton-OR-97005/vhassoc/31135-1807-MH58?icid=sr14402-481p&q=&l=California,%20Us,%20CALIFORNIA",
         "VanderHouwen & Associates, Inc.",
         "Full Time, Full time",
         "VanderHouwen has more jobs you may like!  Find them here: http://bit.ly/1RIQfgE PLEASE JOIN OUR TALENT NETWORK: http://bit.ly/vhatalentnetwork  Joining the Talent Network with VanderHouwen & Associates (VHA) will enhance your job search and application experience. Job listings are mobile-friendly and easy to review, share, or apply. Whether you choose to just leave us your information or apply, we look forward to connecting with you. SummaryOur client seeking an individual who can apply extensive and advanced principles, theories, and concepts to the development of solutions to complex problems with innovation and ingenuity. Expert knowledge of Lawson Supply Chain modules and business practices.Responsibilities Demonstrate service excellence and positive interpersonal relationships in dealing with others, including patients/families/members, employees, managers, medical staff, volunteers, and community members, so that productivity and positive relations are maximized.Act as a system specialist or business consultant on complex projects or system, which can include planning and coordinating large scale projects or tasks across a multi-state enterprise, using cross disciplined team efforts.Provide technical and operational guidance to ensure that installed systems are working effectively and that proposed systems will meet the organizations future needs.Work with users, user groups, and vendors to gather requirements and provide fit gap analysis and effective technical solutions for the business needs.Provide documentation for testing, functional and technical designs and development processes as required by project management methodology.Develop and recommend technical support and software management standards, policies, procedures and strategies.Develop test plans to test application functionality of highly complex applications across multiple modules in support of patches, upgrades, and infrastructure and/or desktop configuration changes.Respond to and resolve reported incidents according to customer support service level agreements.Participate in problem management and troubleshooting teams on major enterprise system issues.Design, implement, evaluate and facilitate systems tests for new applications or enhancements to current applications.Proactively evaluate and make recommendations around adoption of emerging standards. Mentors others regarding integration protocols and processes.Address topics and issues that are both strategic (long term) and operational (immediate) in nature.QualificationsBachelor's degree or equivalent blend of education and experience.Minimum of 10 years functional experience.Proficient in Microsoft Office Products.Proficient in the development and support of integration with other applications.Minimum of 10 years* experience with the Lawson Supply Chain product suite.Qualifications PreferredMaster's Degree.HealthCare Information Services experience.",
         "Dice Id : vhassoc",
         "Beaverton, OR",
         "Principal Application Analyst-Supply Chain Lawson",
         "7 hours ago",
         "Telecommuting not available|Travel not required",
         null,
         "Lawson Supply Chain",
         "7ad2eadde69e07fee0e38c1a251dd81f"
        ],
        [
         "18",
         "https://www.dice.com/jobs/detail/Messaging-Administrator-Genesis10-Kansas-City-MO-64101/gentx001/16-04008?icid=sr14427-481p&q=&l=California,%20Us,%20CALIFORNIA",
         "Genesis10",
         "Full Time, Direct Placement",
         "Genesis10 is actively seeking a Messaging Administrator for a direct hire position within the insurance industry for our client located in Kansas City, MO. Description:   * Our client has an exciting opportunity for a Messaging Administrator who would enjoy working for an organization that strives every day to support the public good and make a difference. You will be working in the division responsible for hardware and software infrastructure as well as providing technology resources for regulatory systems and databases. If you hold a Microsoft Certified Engineer or Certified Information Systems Security Professional certification, we want to chat with you. * This position is located in, state-of-the-art offices in the heart of downtown Kansas City which includes great restaurants, and top-notch entertainment venues. This is a full-time position in a positive and flexible environment. Responsibilities:   * Providing administration and technical support for Technical Services enterprise backup systems including: + Administering, supporting, and maintaining the Veritas NetBackup Infrastructure. + Administering, supporting, and maintaining the IBM Tivoli Backup Infrastructure. * Providing administration and technical support for the internal e-mail network including: + Microsoft Windows Server 2008, Windows Server 2012, Microsoft Exchange 2013 support. + Administering the SMTP Mail Gateway servers, Mail flow, gateway filter blocks, virus scanning and virus blocks. * Administering and supporting mobile devices and server architecture: + Installing, configuring, and maintaining Mobile Device Management servers and environment. + Setup and configuration of mobile devices. * Providing administration and support of Lyris ListManager server product including: + Microsoft Server administration and troubleshooting of Lyris ListManager server. + Back-end listserver setup and support. * Carrying a pager and responds to it during and outside of normal business hours. The pager will be carried for a week at a time on a rotating basis. * Participating in a support role for national meeting. This includes travel and supporting systems away from the office for over a week at a time at least once a year. Requirements:   * Bachelor's degree (B.A. or B.S.) from a four-year college or university and three years' of related experience; or equivalent combination of education and work experience. A minimum of three years' of experience working with Microsoft Active Directory server administration is required. * Must have strong communication skills. * Must have an in-depth knowledge of Microsoft Active Directory administration and replication. * Proficient with server and workstation hardware. * Must have a sound knowledge of desktop and server operating systems (Windows 7, Windows 2008 or 2012 server) and distributed e-mail systems. * Must have very intuitive troubleshooting skills to look at the broad picture (i.e. consider network and server in resolving desktop problems). * Strong understanding of backup software and backup retention policies. * Only W2 candidates will be considered for this position. (no third parties) If you have the described qualifications and are interested in this exciting opportunity, apply today! About Genesis10:   Genesis10 is a leading U.S. business and technology consulting firm with hundreds of clients needing proven talent and solutions to power their strategic initiatives. If you are a high performing business or IT professional with solid, referenced experience, we want to meet you. Genesis10 recruiters and delivery professionals are highly accomplished career advocates, who get to know you beyond your resume to position you with the opportunities that fit your skills, experience and aspirations. We have benefit options to fit your needs and a support staff that works with you from placement throughout your engagement - project after project. To learn more about Genesis10 and to view all our available career opportunities, please visit us at www.genesis10.com \"Genesis10 is an Equal Opportunity Employer, M/F/D/V\"  Start Date: 06/08/2016",
         "Dice Id : gentx001",
         "Kansas City, MO",
         "Messaging Administrator",
         "7 hours ago",
         "Telecommuting not available|Travel not required",
         null,
         "Desktop, Hardware, Network, Software, Systems, Windows",
         "f3af6886ca0d133abda2ddf9b84633e4"
        ],
        [
         "19",
         "https://www.dice.com/jobs/detail/Java-Architect-%2526%252345-Denver%252C-CO-%2526%252345-Fulltime-Fahrenheit-IT-Staffing-%2526-Consulting-Denver-CO-80202/10111360/3046324-28-MH17?icid=sr14805-494p&q=&l=California,%20Us,%20CALIFORNIA",
         "Fahrenheit IT Staffing & Consulting",
         "Full Time, Direct Hire",
         "Our client in the healthcare software industry is seeking a Java Architect to join their growing team. Below is the job description, if interested please submit a word resume and the best time and number to reach you to discuss.Title: Java ArchitectLocation: Denver, CO Duration: Fulltime Salary: DOEResponsibilities: This person will be working with IT leadership, product owners, and project management to determine the architectural approach and patterns to apply to projects of the highest level of complexity Design solutions that appropriately balance technical elegance, business need, project risk, and cost Guide the development team throughout the lifecycle.10 years of experience in software development including object oriented analysis and design. Prefer Java technology stack, but similar backgrounds such as .Net will be considered3 years of experience in a team lead role3 years of experience in an application architect or solution architect roleExperience with Middle tier development using Java and related technologyWeb application developmentMobile application development on multiple platformData architecture and data movement, including OLTP systems and BI/Data Warehousing scenario",
         "Dice Id : 10111360",
         "Denver, CO",
         "Java Architect - Denver, CO - Fulltime",
         "7 hours ago",
         "Telecommuting not available|Travel not required",
         null,
         "(See Job Description)",
         "e4f57bc5366124a0a47cac27f557f9ec"
        ],
        [
         "20",
         "https://www.dice.com/jobs/detail/IT-Business-Analyst-Genesis10-Sandy-Springs-GA-30319/gentx001/15-07316?icid=sr14813-494p&q=&l=California,%20Us,%20CALIFORNIA",
         "Genesis10",
         "Full Time",
         "Genesis10 is looking for a Business Analyst for a long-term contract position in Sandy Springs, GA with our Fortune25 financial services industry client. Only W2 candidates will be considered. Description:   As a Business Analyst, you will conduct business and technical analysis for process and tool enhancements and ensures operational readiness to satisfy business partner objectives. The Business Analyst will employ a set of tasks and techniques used to work as a liaison among stakeholders and core team members in order to understand the structure, policies and operations of an organization, and to recommend solutions that enable the organization to achieve its goals. Responsibilities:   * Business Analysis, Planning and Monitoring * Requirements Management and Communication * Enterprise Analysis * Requirements Analysis * Solution Assessment and Validation * Work with core team members to elicit, organize, document and validate business rules, functional and non-functional requirements * Partner with the product manager to build cohesive release content * Translate stakeholder requests into a set of system features. These in turn are detailed into specifications for functional and nonfunctional requirements * Ensure the functionality, usability, performance and supportability of the requirements * Assess capability gaps and identify new capabilities required by the enterprise to meet the business need * Understand the organizations business and how the technology supports the business * Assess or evaluate the impact of the change the stakeholder is requesting * Translates business needs into technical requirements and ensures all systems support business needs * Ensure the process of reviewing, selecting, and designing the solution is done in a way that maximizes value delivered to stakeholders * Assess defects and issues; determine the business impact and severity of the defect. Conduct analysis and root cause of defect * Facilitate meetings with the direct involvement of both stakeholders and developers to gather feedback on requirements and solution results and to produce the following key deliverables: + Actionable Requirements (Stories) + Process Maps + Gap Analysis + Scenarios and/or use cases + Data Flow Diagrams + Analysis and submission of Change Control Forms Requirements:   * 5-7 years' experience in analysis with expertise in different technologies, business areas, application wide analysis, and proposal of solutions * Ability to interpret the domain in order to capture meaningful requirements * Strength in assembling, analyzing, and representing business requirements * In depth experience performing feasibility analysis, scope projects, prioritize deliverables, recommend alternative solutions and project strategies, and engage in negotiations * Responsible for high level implementation plans, data and process models, cost estimating, cost benefits analysis, and return on investments * Experience facilitating workshops such as JAD, RAD, and DRP sessions, etc. * Expert skills in MS Office (Word, Excel, PowerPoint) and strong Visio skills preferred If you have the described qualifications and are interested in this exciting opportunity, please apply! Only W2 candidates can be considered. About Genesis10:   Genesis10 is a leading U.S. business and technology consulting firm with hundreds of clients needing proven talent and solutions to power their strategic initiatives. If you are a high performing business or IT professional with solid, referenced experience, we want to meet you. Genesis10 recruiters and delivery professionals are highly accomplished career advocates, who get to know you beyond your resume to position you with the opportunities that fit your skills, experience and aspirations. We have benefit options to fit your needs and a support staff that works with you from placement throughout your engagement - project after project. To learn more about Genesis10 and to view all our available career opportunities, please visit us at www.genesis10.com. \"Genesis10 is an Equal Opportunity Employer, M/F/D/V\"  Start Date: 06/30/2016",
         "Dice Id : gentx001",
         "Sandy Springs, GA",
         "IT Business Analyst",
         "7 hours ago",
         "Telecommuting not available|Travel not required",
         null,
         "Analysis, Analyst, Application, Business Analyst, Business Requirements, Excel, IT, PowerPoint, Project",
         "d3073d47b79938269b22bdea4dc0b9b8"
        ],
        [
         "21",
         "https://www.dice.com/jobs/detail/IT-Sales-Manager-Eastridge-Workforce-Solutions-Chicago-IL-60290/eastsd/44395-28-MH1480?icid=sr14712-491p&q=&l=California,%20Us,%20CALIFORNIA",
         "Eastridge Workforce Solutions",
         "Full Time, Direct Hire",
         "Great opportunity for driven, energetic IT Sales Professionals in chicago! Our client is a leading Global IT services Provider based in the tech mecca of the world- Silicon Valley & are looking for High energy, IT sales Professionals to join their team in Midwest . The position offers working remotely ! 7-10 yrs IT Services Sales experience.   Must have a mix of IT Services Project selling (50%) and Staff Augmentation *  Onsite Placements with direct end clients (50%).    Industry segments preferred in Retail / Manufacturing / Supply Chain / Product Engineering / Mobility. A SALES HUNTER MENTALITY IS A MUST! Must have a proven sales track record of success of carrying a quota of $3- 4.5 Million dollars Competitive Base Salary + Commission !",
         "Dice Id : eastsd",
         "Chicago, IL",
         "IT Sales Manager",
         "7 hours ago",
         "Telecommuting not available|Travel not required",
         null,
         "(See Job Description)",
         "c014c8569c91f22bc871940bfa4b4296"
        ],
        [
         "22",
         "https://www.dice.com/jobs/detail/Sr.-Systems-Test-Engineer-%2528PERM%2529-Avesta-Computer-Services-Parsippany-NJ-07054/avesta/ITE0516?icid=sr14324-478p&q=&l=California,%20Us,%20CALIFORNIA",
         "Avesta Computer Services",
         "Full Time, PERM",
         "Our client is the world’s premier voice and electronic interdealer broker and the source of global market   information and commentary for professionals in the international financial markets. The Group is active in the wholesale markets in interest rates, credit, commodities, foreign exchange and equity derivatives.Our client is currently seeking a Sr. Systems Test Engineer  for a fulltime position in Parsippany, NJ.Principal Responsibilities & AccountabilitiesConduct the entire system certification effort for a project with minimal supervision.Serve as the principal system engineer for major test efforts; lead the effort of other system engineers and application testers as requiredRepresent the group in requirement, specification, and design review meetings and contribute constructive feedback to the presenters in the group’s area of expertise.Create test tools to perform API level testingPerform Load and Performance Testing for C / C++, Java and Adobe Flash based applications.Create status and test result reports for management and represent the group in status meetings.Estimate certification effort for projects and ad-hoc testing requests.Determine and execute appropriate system-side testing for each project outside of requirements.Build, install and fallback software releases and database schemas in lab environments.Support operations personnel for critical production issues as needed.Write advanced tools and scripts to aid certification efforts and simplify operations procedures.Experience with VM, configuring VM on both Windows and Linux platforms CompetenciesMastery of Solaris and Linux operating systems.Working knowledge of OpenVMS and WindowsAble to install and configure new hardware and software with minimal assistance.Knowledge of Mercury Interactive suite of automated testing tools (LoadRunner/Performance Center, QTP and Quality Center)Working knowledge of TCP/IP and routing protocols.Knowledge of Microsoft Office suite of products.Working knowledge of SQL – can create ad-hoc queries to verify test results or troubleshoot issues. Oracle DBA-type experience a plus.Programming experience, preferably C/C++, Java and shell scripting.Knowledge of software methodologies (Agile and Scrum)Qualifications & Experience Minimum of bachelor's degree or equivalent in computer science, master’s degree preferred.Atleast 4 years relevant experience on Systems testing, Load and Performance testing for C/ C++, JAVA and Adobe Flash based applications4 years’ experience with manual testing.Knowledge of foreign exchange/banking and market data industriesMinimum 7 years of work experience in the Information Technology industry.Working knowledge of de facto industry standard software (Oracle, HP OpenView, etc.) a plus.Knowledge of Networking Concepts is preferable.knowledge on Tervela or any MQ messaging is preferableknowledge on Google protocol buffer (GPB) and FIX/FAST is preferableknowledge on configuring VM on both Windows and Linux platforms",
         "Dice Id : avesta",
         "Parsippany, NJ",
         "Sr. Systems Test Engineer (PERM)",
         "7 hours ago",
         "Telecommuting not available|Travel not required",
         null,
         "System Testing, Load/Performance Testing, FIX.FAST, C/C++, Java, Windows, Linux",
         "b7fab2d3de5e129310b382d8f51508f6"
        ],
        [
         "23",
         "https://www.dice.com/jobs/detail/IT-Quality-Consultant-Genesis10-Eden-Prairie-MN-55343/gentx001/16-04074?icid=sr14014-468p&q=&l=California,%20Us,%20CALIFORNIA",
         "Genesis10",
         "Full Time, Right to Hire",
         "Genesis10 is seeking an IT Quality Consultant for a 4-month contract-to-hire position with a client in Eden Prairie, MN. Genesis10 provides access to career opportunities with over 40 clients in the Twin Cities. As the #3 ranked firm for Business and IT consulting in Minnesota, we offer a variety of opportunities whether you are looking for contract, contract-to-hire, or permanent positions. Let's connect today! Responsibilities:   * Test Planning - Requirement/User Story review, Test Case writing; Gherkin, Feature Files * Test Case Automation - Selenium framework and/or SOAPUI * Test Case Execution - Selenium and/or SOAPUI; Some manual execution may be required * Test Execution status reports * Proactive Communication * Use of Agile principles; likely use of ATDD principles Qualifications:   * Automation & Test execution skills that involve coding in Selenium and/or SOAPUI * Communication & team work * Rally for test case and defect management; Agile project management preferred If you have the described qualifications and are interested in this exciting opportunity, apply today! Benefits of Working with Genesis10:   As a Genesis10 consultant, we are proud to offer access to the following benefits: * Medical and dental insurance * Bi-weekly payroll * 401k plan * Downtown Minneapolis/St. Paul parking allowance * Delivery Manager for employee support * Successful re-marketing program * Referral program with the opportunity to earn additional income About Genesis10:   Genesis10 is a Professional Technology Services Firm providing Staffing, Workforce Optimization and Domestic Outsourcing Solutions. If you are a high performing business or IT professional with solid, referenced experience, we want to meet you. Genesis10 recruiters and delivery professionals are highly accomplished career advocates, who get to know you beyond your resume to position you with the opportunities that fit your skills, experience and aspirations. We have benefit options to fit your needs and a support staff that works with you from placement throughout your engagement - project after project. To learn more about Genesis10 and to view all our available career opportunities, please visit us at www.genesis10.com \"Genesis10 is an Equal Opportunity Employer, M/F/D/V\"",
         "Dice Id : gentx001",
         "Eden Prairie, MN",
         "IT Quality Consultant",
         "7 hours ago",
         "Telecommuting not available|Travel not required",
         null,
         "Agile, CASE, Consulting, Defect Management, Manager, Management, Project, Project Management",
         "4868383e3f99535778f354fcb734d57c"
        ],
        [
         "24",
         "https://www.dice.com/jobs/detail/USB-Validation-Engineer-VanderHouwen-%2526-Associates%252C-Inc.-Austin-TX-78701/vhassoc/31321-1807-MH58?icid=sr14648-489p&q=&l=California,%20Us,%20CALIFORNIA",
         "VanderHouwen & Associates, Inc.",
         "Full Time, Full time",
         "VanderHouwen has more jobs you may like!  Find them here: http://bit.ly/1RIQfgE PLEASE JOIN OUR TALENT NETWORK: http://bit.ly/vhatalentnetwork  Joining the Talent Network with VanderHouwen & Associates (VHA) will enhance your job search and application experience. Job listings are mobile-friendly and easy to review, share, or apply. Whether you choose to just leave us your information or apply, we look forward to connecting with you. SummaryThis position is part of the Pre-Silicon Emulation/Post-Silicon Validation team and plays a fundamental role in bringing to market next-generation devices for our growing audio business and ensuring that those devices meet customer requirements.ResponsibilitiesDevelop and execute tests on the lab bench per the validation plan during pre-silicon and post-silicon phases of the product to ensure functionality and performance as per the datasheet.Think beyond the datasheet and around design corners to find elusive bugs. Able to think of test cases and customer usage model that may violate the assumptions of designers and systems engineers.Develop automated test framework, regression test suites in MATLAB and/or LabVIEW to optimize validation efficiency.Work with validation peers to implement best practices and continuous improvements to company validation methodologies.Collaborate closely with IC Design engineers, Systems engineers and Application engineers to understand requirements and use cases.Debug analog/digital silicon issues, board issues and Validation software/hardware tools issues.Analyze test results and identify failures/defects using business intelligence tools such as Spotfire.Work with firmware and software engineers to debug USB protocol errors.Validate USB physical layer against standard USB requirements.Develop and work with supporting HW (FPGA, DSP, ARM, 8051, JTAG, debuggers) and SW (C, Assembly, scripts) collaterals.Qualifications RequiredBS in Electrical or Computer Engineering with 5+ years of experience in related field OR MS in Electrical or Computer Engineering with 3+ years of experience in relevant areas in USB validation.Familiarity with scripting/programming languages such as MATLAB, C, Python, LabVIEW or similar.Solid hands-on experience in lab equipment such as oscilloscopes, signal generators, audio analyzers, logic analyzers, spectrum analyzers for measurement and debugging issues.Qualifications PreferredExperience in various automation framework hardware tools (FPGA, DSP, ARM, 8051, JTAG, NI Data Acquisition) or software tools/languages (Scripting languages as MATLAB, C, Python, SQL, test sequencers such as NI Teststand).Solid hands-on experience in lab equipment such as oscilloscopes, protocol analyzers, signal generators, audio analyzers, logic analyzers, spectrum analyzers for measurement and debugging issues.Self-motivated with excellent problem solving skills and attention to detail are highly valued as you will need to understand silicon, board and software interactions.Demonstrated aptitude in system understanding of various industry interface standards such as I2C, SPI, USB, UART, I2S, TDM or high-speed control/data bus as examples.",
         "Dice Id : vhassoc",
         "Austin, TX",
         "USB Validation Engineer",
         "7 hours ago",
         "Telecommuting not available|Travel not required",
         null,
         "MATLAB, LabVIEW",
         "81f8732626888727fcc1093b6c084839"
        ],
        [
         "25",
         "https://www.dice.com/jobs/detail/Senior-Product-Manager-Amazon-Seattle-WA-98101/amazsell/391918?icid=sr14471-483p&q=&l=California,%20Us,%20CALIFORNIA",
         "Amazon",
         "Full Time, Full time",
         "Do you want a chance to directly improve the customer experience for millions of customers a day?This position is a Product Manager in the Customer Experience team for Fulfillment by Amazon and Amazon Global Selling organization. Our vision is to transform global commerce by bringing selection from around the world to Customers anywhere in the world, with the same great customer experience Buyers expect from Amazon.In this role, you will set strategy and policy, build processes, and evangelize for technology solutions that allow third party Sellers from all over the world to bring hundreds of millions of new items to Amazon’s 11 Marketplaces worldwide. You will determine what experience these Sellers must offer our customers, create the incentives and enforcement mechanisms to achieve this experience, and frequently audit the results.Responsibilities for this position will include creation of programs that drive improvement in our key customer experience metrics, management of global programs and stakeholders, and driving alignment for new programs at high levels of the organization. This position will also have management responsibility for product managers, data analysts, and an operations team.From Jeff Bezos' annual letter to Amazon shareholders:To further globalize Marketplace, we’re now helping sellers in each of our geographies - and in countries where we don’t have a presence - reach out to our customers in countries outside their home geographies. We hosted merchants from more than 100 different countries last year, and helped them connect with customers in 185 nations. Almost one-fifth of our overall third-party sales now occur outside the sellers’ home countries, and our merchants’ cross-border sales nearly doubled last year. In the EU, sellers can open a single account, manage their business in multiple languages, and make products available across our five EU websites. More recently, we’ve started consolidating cross-border shipments for sellers and helping them obtain ocean shipping from Asia to Europe and North America at preferential, bulk rates.Fulfillment by Amazon (FBA) is an Amazon service for our third-party Sellers. The FBA team partners with Sellers and our Amazon Fulfillment Centers to create a seamless experience for Sellers to leverage our world-class facilities. 71% of our FBA Sellers report more than a 20% increase in unit sales after joining FBA. In a very real way, we are changing lives with the work we do. Our FBA employees wake up every day thinking about how to enable our Sellers to be successful on our platform. Enabling Seller success allows us to provide Amazon customers with unparalleled selection and pricing. FBA is a win for Sellers and a win for customers. Want to learn more about FBA?· Seller’s success stories: SellerSuccess· A free book of stories from small businesses/sellers, authors, and innovators that are thriving on Amazon: Transformations-ebook· BS or BA in computer science, engineering, math, finance, or economics· 3+ years of product management or finance experience in technology focused business· Excellent written and verbal communication skills· Superior analytical and problem-solving skills· MBA· 5+ years of product management experience· Prior experience managing technical products or online services· Proficient with web services, online technologies, virtualization, developer tools, and user interface design· Entrepreneurial spirit, with track record for delivering results in fast-moving and demanding environments· History of developing business strategy in conjunction with senior leadership",
         "Dice Id : amazsell",
         "Seattle, WA",
         "Senior Product Manager",
         "7 hours ago",
         "Telecommuting not available|Travel not required",
         null,
         "Do you want a chance to directly improve the customer experience for millions of customers a day? This position is a Product Manager in the Customer Experience team for Fulfillment by Amazon and Amazon Global Selling organization. Our vision is to transform global commerce by bringing selection from around the world to Customers anywhere in the world, with the same great customer experience Buyers expect from Amazon. In this role, you will set strategy and policy, build processes, and evangelize for technology solutions that allow third party Sellers from all over the world to bring hundreds of millions of new items to Amazon's 11 Marketplaces worldwide. You will determine what experience these Sellers must offer our customers, create the incentives and enforcement mechanisms to achieve this experience, and frequently audit the results. Responsibilities for this position will include creation of programs that drive improvement in our key customer experience metrics, management of global programs and stakeholders, and driving alignment for new programs at high levels of the organization. This position will also have management responsibility for product managers, data analysts, and an operations team. From Jeff Bezos' annual letter to Amazon shareholders: \"To further globalize Marketplace, we're now helping sellers in each of our geographies - and in countries where we don't have a presence - reach out to our customers in countries outside their home geographies. We hosted merchants from more than 100 different countries last year, and helped them connect with customers in 185 nations. Almost one-fifth of our overall third-party sales now occur outside the sellers' home countries, and our merchants' cross-border sales nearly doubled last year. In the EU, sellers can open a single account, manage their business in multiple languages, and make products available across our five EU websites. More recently, we've started consolidating cross-border shipments for sellers and helping them obtain ocean shipping from Asia to Europe and North America at preferential, bulk rates.\" Fulfillment by Amazon (FBA) is an Amazon service for our third-party Sellers. The FBA team partners with Sellers and our Amazon Fulfillment Centers to create a seamless experience for Sellers to leverage our world-class facilities. 71% of our FBA Sellers report more than a 20% increase in unit sales after joining FBA. In a very real way, we are changing lives with the work we do. Our FBA employees wake up every day thinking about how to enable our Sellers to be successful on our platform. Enabling Seller success allows us to provide Amazon customers with unparalleled selection and pricing. FBA is a win for Sellers and a win for customers. Want to learn more about FBA? ? Seller's success stories: SellerSuccess ? A free book of stories from small businesses/sellers, authors, and innovators that are thriving on Amazon: Transformations-ebook",
         "cf902dc6fd702207563ed1cdc03ef05e"
        ],
        [
         "26",
         "https://www.dice.com/jobs/detail/Frontend%2526%252347UI-Developer-VanderHouwen-%2526-Associates%252C-Inc.-Seattle-WA-98104/vhassoc/31082-1807-MH58?icid=sr14593-487p&q=&l=California,%20Us,%20CALIFORNIA",
         "VanderHouwen & Associates, Inc.",
         "Contract W2, Contract",
         "PLEASE JOIN OUR TALENT NETWORK: http://bit.ly/vhatalentnetwork  Joining the Talent Network with VanderHouwen & Associates (VHA) will enhance your job search and application experience. Job listings are mobile-friendly and easy to review, share, or apply. Whether you choose to just leave us your information or apply, we look forward to connecting with you. SummaryOur client is the leading provider of online video publishing and management solutions * millions of media files and process millions of hits per day. Media companies rely on their cloud-based video platform as their open, central hub for managing, monetizing, and syndicating billions of internet video views each year. Our client*s services provide unmatched versatility for designing and supporting streaming video businesses on PCs, mobile devices, and TV. Some of their customers include SyFy, Fox Sports Network, NBC Sports, National Geographic, Comcast, British Telecom, Travel Channel, and more. Their Consulting Services Team is seeking to add those with engineering knowledge / experience with the latest web and mobile technologies and come work as a Frontend/UI Developer. The Consulting Services team works with a variety of customers to deliver world class IP-based video delivery solutions. Current projects include multiple initiatives for major media companies, as well as cable operators and telecommunication companies worldwide.  The Frontend/UI Developer will be contributing to HTML5 video sites for high profile media companies, as well as to administrative consoles for media publishers and distributors using the latest JavaScript technologies. ResponsibilitiesDesign, estimate, and implement features for consumer-facing HTML5 video players based on client PDK technologies. Develop administrative user interfaces for Consulting Services customers for video management solutions.Collaborate with Project Managers and Solution Architects to plan and estimate customer solutions.Participate in a highly iterative agile development process as part of small cross-functional engineering team.Help the team diagnose and address complex client-side interactions.Qualifications BS Degree in Computer Science or a related field (BONUS).High level of communication skills. 4+ years* experience with front end JavaScript Development.CSS and HTML design implementation from wire frame to reality.Comfortable with a wide range of JavaScript technologies like Angular.JS, React, Node.js, JavaScript promises.Experience in a test-driven development environment.Team Lead experience (BONUS). ",
         "Dice Id : vhassoc",
         "Seattle, WA",
         "Frontend/UI Developer",
         "7 hours ago",
         "Telecommuting not available|Travel not required",
         null,
         "Angular.JS, React, Node.js, JavaScript",
         "1bef3cf6259e80d18222407858ad9052"
        ],
        [
         "27",
         "https://www.dice.com/jobs/detail/1001-Selenium-Automation-testing-ReqRoute%252C-Inc-Salt-Lake-City-UT-84101/10349715/570843?icid=sr14348-479p&q=&l=California,%20Us,%20CALIFORNIA",
         "ReqRoute, Inc",
         "Full Time",
         "Selenium TesterSalt Lake City , UT & Phoenix , AZQuality assurance experience more than 4 years in agile projects with a Lead role.·          Hands on Selenium test automation skills is a must requirement.Test management tool experience like HP Quality center.·          Quick learner and self starter.·          Should be able to function with minimum supervision.·          Agile project management tools experience like Rally , Agile vision etc.·          Should have a very proactive and agile personality.·          Should have qualities of a Ownership bearer and Responsible lead.  If you bring willingness, flexibility and a desire to impress please apply now. Resource Manager :   Payal AgrawalEmail:  payal@reqroute.com        Phone:  408-800-4331  Companies across U.S. have engaged ReqRoute, Inc to deliver skilled, dedicated IT professionals. Recruiting is our passion and we support Fortune 1000 companies with their hiring needs. We always seek to deliver competitive and sought-after career opportunities to our potential consultants and employees. We invite you to review the position requirements below and apply today if your skills match our need.    ReqRoute, Inc is an Equal Opportunity Employer. Qualified applicants will receive consideration for employment without regard to race, color, religion, sex, age, disability, military status, national origin or any other characteristic protected under federal, state, or applicable local law. (www.reqrouteinc.com)  ",
         "Dice Id : 10349715",
         "Salt Lake City, UT",
         "1001 Selenium Automation testing",
         "7 hours ago",
         "Telecommuting not available|Travel not required",
         null,
         "selenium testing automation",
         "72a3f0f0f24a0a78c5fac3c2376f5979"
        ],
        [
         "28",
         "https://www.dice.com/jobs/detail/FireEeye-HX-%2526%252345-Security-Engineer-Turnberry-Solutions-Columbia-SC-29201/10120009/16-02156?icid=sr14260-476p&q=&l=California,%20Us,%20CALIFORNIA",
         "Turnberry Solutions",
         "C2H Independent, C2H W2, 12+ mos",
         " Turnberry Solutions is in search of a Security engineer for a managed solutions team Working onsite with our client. Strong experience needed with FireEye HX clients and Mandiant Mirror Asses existing network topology and identify key system flaws Perform annual assessment of FireEye configurations Develop detailed supporting documentation regarding technical projects (such as materials to support an architecture review board) Manage customer expectation and attend all mandatory review / regulatory discussions related to the specific project being delivered Help establish baseline and plan for improvement of a large enterprise deployment of FireEye HX along with strategic endpoint security planning. Daily Responsibilities Administration of Mandiant (FireEye) Mirror Solution Experience with triage features of FireEye HX Supports customers at the highest levels in the development and implementation of doctrine and policies. Performs analysis, design, and development of firewall rules. Analyzes security threats on endpoint desktops Designs, develops, engineers, and implements solutions that meet security requirements (relating to endpoint analysis solutions). Analyzes general information assurance-related technical problems and provides basic engineering and technical support in solving these problems. Technology escalation point for endpoint agents (FireEye HX) Possesses and applies expertise on multiple complex work assignments. Exposure to at least one major industry network firewall technology Assignments may be broad in nature, requiring originality and innovation in determining how to accomplish tasks. Operates with appreciable latitude in developing methodology and presenting solutions to problems Contributes to deliverables and performance metrics where applicable. Security certification desired Advanced experience in networking (TCP/IP) protocols, computer/network security, and system administration. Background in INFOSEC operations, endpoint management, and network topology Windows and Linux skills desired Advanced experience in networking (TCP/IP) protocols, computer/network security, and system administration. Background in INFOSEC operations, endpoint management, and network topology Windows and Linux skills desired Experience with Mandiant (FireEye) Mirror Experience with FireEye HX deployment and usage experience in Information Security standard and best practices 5+ years of IT Security experience with Bachelor's Degree -OR- 3+ year of IT Security experience with Master's On occasion employee will need to travel to various customer locations. Less than 3 hours driving time. Experience with Mandiant (FireEye) Mirror Experience with FireEye HX deployment and usage Experience in Information Security standard and best practices TCP/IP and network security protocols Unix/Linux System Admin Skills",
         "Dice Id : 10120009",
         "Columbia, SC",
         "FireEeye HX - Security Engineer",
         "6 hours ago",
         "Telecommuting not available|Travel not required",
         null,
         "(INFORMATION SECURITY over 1 year(s) OR CYBER SECURITY over 1 year(s) OR SECURITY over 1 year(s) ) AND(FIREEYE OR FIRE EYE )",
         "4a3f8742fae151757eb290a774968371"
        ],
        [
         "29",
         "https://www.dice.com/jobs/detail/Sr.-Software-Storage-Engineer-VanderHouwen-%2526-Associates%252C-Inc.-Seattle-WA-98104/vhassoc/31217-1807-MH58?icid=sr14283-477p&q=&l=California,%20Us,%20CALIFORNIA",
         "VanderHouwen & Associates, Inc.",
         "Full Time, Full time",
         "PLEASE JOIN OUR TALENT NETWORK: http://bit.ly/vhatalentnetwork  Joining the Talent Network with VanderHouwen & Associates (VHA) will enhance your job search and application experience. Job listings are mobile-friendly and easy to review, share, or apply. Whether you choose to just leave us your information or apply, we look forward to connecting with you. SummaryOur client leads the world in helping users collaboratively solve some of the world's hardest computer challenges. Whether its wrangling Petabytes of data for cutting edge movie production, managing global content production workflows, exploring new sources of energy, or managing oceans of content and blending collaborative high-speed workflows with cutting-edge object storage, our client has the tools and technology to help you engineer the solution that works now - and preserves your work for decades to come. You are applying to an exceptional team that contributes to enhancing their position as a proven global expert in data management. Our client is seeking a passionate Sr. Software Storage Engineer who can turn ideas into efficient, reliable and maintainable code to work on a popular open source storage project * Ceph. In this role, you will develop and support the major components of the Ceph storage project across both user and Linux kernel implementations. You will be responsible for the planning, implementation, and support interactions with a very active open source community to deliver enterprise-class software. The challenge? Build a new storage solution based on open software, open hardware, and cloud innovations that will disrupt traditional enterprise storage. You will be coming in on the ground floor of an exciting new solution and work in a fast paced environment.ResponsibilitiesEnjoy helping others around you grow as developers and be successful. Can be autonomous and self-driven. Have an entrepreneurial mindset.Have excellent written and verbal communication skills. Get inspired on a daily basis, think of new ideas and like to share them with others. Love open source software development and being part of a community.Instruct, guide, negotiate, coordinate, analyze and organize.Interact with others in a team environment and also work alone.Complete tasks on time with and without supervision.Use logic and reasoning to identify the strengths and weaknesses of alternative solutions, conclusions or approaches to problems.Communicate information and ideas so others can understand.Analyze information and evaluate results.Qualifications Bachelor's degree in computer science, or demonstrated equivalent experience; master's degree in computer science or equivalent experience is preferred.8+ years of systems software development experience.Solid C and C++ development and debugging skills.Good systems and networking programming skills.Deep understanding of Linux and UNIX internals.Experience with clustered computing or distributed file systems; client or server computing experience.Experience dealing with scaling issues and distributed design.Experience with correct and efficient serialization of multi-threaded code.Experience with remote file access protocols (e.g. NFS, CIFS, or S3).Experience with Git, GitHub, and CI.Experience working with distributed teams, delivering enterprise quality software, and working on open source software projects.",
         "Dice Id : vhassoc",
         "Seattle, WA",
         "Sr. Software Storage Engineer",
         "7 hours ago",
         "Telecommuting not available|Travel not required",
         null,
         "C and C++, Linux, UNIX",
         "b1db84e23f424b1481b29212749abadc"
        ],
        [
         "30",
         "https://www.dice.com/jobs/detail/C%252B%252B-Software-Engineer-Alpha-Recruitment-Philadelphia-PA-19102/10369051/495580?icid=sr14571-486p&q=&l=California,%20Us,%20CALIFORNIA",
         "Alpha Recruitment",
         "Full Time, Fulltime Permanent",
         "Our client is seeking a Software Developer to join the team responsible for designing, developing and maintaining the firm’s highly distributed, high performance order routing system for equities, options and futures. In this position you will have the opportunity to work closely with traders and other technical teams. You will be engaging the complete SDLC and the majority of development will be in C++ on Linux.If you join this team, you will:Research, design, develop and test software components and applications in a heterogeneous technology environment using knowledge of object oriented programming and C++/Linux.Analyze user needs and software requirements to determine feasibility of design within time, cost, and performance constraints.Engage in problem definition, decomposition, and solutions definition within the scope of the application and the run-time environment.Take a holistic view of systems and understand how the hardware, networking, and middleware layers integrate with software components.You should be:Able to execute on ideas quickly.Committed to innovation.Focused on the entire technical stack with an eye for building a stable, scalable, optimized environment with minimized risk.Passionate about technology and interested in exploring new technologies to find the optimal solution.Strong object oriented software developer.Requirements:Bachelor's degree in Computer Science, Engineering, Mathematics or related discipline or its foreign equivalent plus 5 years of progressive experience developing software applications is required.The successful candidate will be a self-motivated, free-thinker who is comfortable working in a fast-paced environment and who has the ability to propose creative and innovative solutions to complex problems.Experience with and a demonstrated understanding of Object oriented design and software development in a high-performance / high throughput environment using C++ (preferably in a Linux environment) is required.Experience with .NET or Java preferred.Excellent attention to detail and an appreciation for the balance between the perfect technical solution and time to market considerations.Ability to take ownership of projects and assume the responsibility for success.Provide innovative ideas to improve the ability of our systems and our team.",
         "Dice Id : 10369051",
         "Philadelphia, PA",
         "C++ Software Engineer",
         "7 hours ago",
         "Telecommuting not available|Travel not required",
         null,
         "Bachelor's degree with 5 years of experience developing software applications in C++ preferably in a Linux environment is required. Experience with .NET or Java preferred.",
         "51a0050d469e787dba2102383797536d"
        ],
        [
         "31",
         "https://www.dice.com/jobs/detail/Domestic-Outsourcing-Business-Development-Executive-Genesis10-Atlanta-GA-30301/gentx001/15-06473?icid=sr14030-468p&q=&l=California,%20Us,%20CALIFORNIA",
         "Genesis10",
         "Full Time",
         "Genesis10 has an incredible opportunity for a Business Development Executive to join our highly-successful Domestic Outsourcing Service Line. The Business Development Executive will be responsible, on a national-level, for acquiring new client logos through consultative-selling of the full spectrum of Genesis10's Domestic Outsourcing services. Genesis10's core competencies in Domestic Outsourcing include, but is not limited to Infrastructure, Application Development, and Managed Services. Today, Genesis10 has 6 certified Delivery Centers from which we provide services from today to the Fortune 500. The Delivery Centers are located in: Atlanta, Cleveland, Dallas, Detroit, Kansas City, and Orlando. Becoming a Genesis10 Domestic Outsourcing Business Development Executive is an excellent career move. Here is what your sales colleagues like most about being in sales at Genesis10: * Genesis10 will not cap your earnings and will do everything we can to empower you to exceed your compensation goals. Many of our sales team members are some of the highest paid in the industry! * Genesis10 has a proven track record with referenceable clients providing Domestic Outsourcing Solutions and is considered an early-adopter * Genesis10's Delivery Center Network if 6 locations in Tier 2, 3 and 4 cities across the United States has been recognized by the market analysts as a key differentiator * You are not on your own! Get the support you need to drive your success: + Executive Level Support: You will have direct-access to the entire Genesis10 C-suite to assist you in opening up doors, creating sales strategy, and closing deals + Dedicated Marketing Team: You will have a marketing team focused on ensuring that you have the sales collateral required to support the business development lifecycle from sales presentations, to whitepapers to reusable RFP content * Genesis10 is not a job; it is a family and a career where you can enjoy sustained success. Most of our sales organization has been at Genesis10 for 7-15+ years * Experience work/life balance and trust from your organization. We realize that sales is a difficult role, requiring a lot of hard work and travel at times. Genesis10 is an organization that recognizes success is predicated on being in balance and enjoying the fruits of your labor How You Will Make a Difference:   As a Senior Business Development Executive, with experience selling outsourcing solutions, you will help drive domestic outsourcing business to Genesis10. * Utilizing existing relationships to drive Domestic Outsourcing business to Genesis10 * Using your 'hunter' sales approach, with the support of a top-tier delivery team, to open up new relationships and establish an optimal sales pipeline * Manage the end-to-end sales process for all pursuits, including lead-generation, client communications, on-site presentations, proposal development, and negotiation * Build strong internal relationships with Genesis10s' C-level executive team and the domestic outsourcing delivery team to gain optimal sales-support * Effectively collaborate with Genesis10's Delivery Center Operations Team to ensure that all awarded service proposals fully meet the client's needs Qualification Requirements:   * Multiple years of proven success selling global offshore or domestic/onshore solutions * Established network of Directors, Vice Presidents, and C-Level relationships to help drive business * Tenured history, having worked multiple years for a recent employer * Demonstrated ability to apply a sales \"hunter approach to driving new business * Experience overseeing the buildout of proposals and contributing to the RFP process * Expert understanding of client outsourcing decision-criteria * Proven ability to work with remote or geographically disperse teams * Ability to travel to client-sites and Genesis10 Delivery Centers for onsite presentations If you've met these qualifications, I want to talk with you. If you are still reading, you must be interested! Reach out to me (Remster Bingham, Vice President of Recruiting rbingham@genesis10.com) today and gain a first-hand understanding of why Genesis10 is a career and not just a job! The Company:   Genesis10 is a professional technology services firm providing staffing, workforce optimization and domestic outsourcing solutions. If you are a high performing business or IT professional with solid, referenced experience, we want to meet you. Genesis10 recruiters and delivery professionals are highly accomplished career advocates, who get to know you beyond your resume to position you with the opportunities that fit your skills, experience and aspirations. We offer benefit options to fit your needs and a support staff that works with you from placement throughout your engagement providing career mentoring and support project after project. To learn more about Genesis10 and to view all our available career opportunities, please visit us at www.genesis10.com. Genesis10 is an Equal Opportunity Employer, M/F/D/V  Start Date: 07/05/2016",
         "Dice Id : gentx001",
         "Atlanta, GA",
         "Domestic Outsourcing Business Development Executive",
         "7 hours ago",
         "Telecommuting not available|Travel not required",
         null,
         "Development, IT, Network, Project, Sales",
         "f2ade5d053b992593e2bdacd83a18a7f"
        ],
        [
         "32",
         "https://www.dice.com/jobs/detail/Lead-Mobile-Product-Manager%2526%252345-12255-Maxonic%252C-Inc.-Mountain-View-CA-94043/10108942/12255?icid=sr14493-484p&q=&l=California,%20Us,%20CALIFORNIA",
         "Maxonic, Inc.",
         "Full Time",
         "Our client is a cloud-based education services company.  They are well funded and have a solid staff of technical and business professionals. They currently have a requirement for a Lead Mobile Product Manager to work in their Mountain View facility. Responsibilities:Own the roadmap for both the Android and iOS appsInteract with business development and sales to gather requirementsInteract with account managers to discover user pain pointsPerform analyses of KPIs and measure behavior across the platformPrepare PRDs and the roadmapWork with engineers to deliver all features and ensure releases go out in a proper cadenceRequirements:BA/BS in Computer Science or related technical field or equivalent4+ years Product ManagementExperience with Scrum/Agile & KanbanAbility to understand highly technical issues and distill down to a product level understandingPreviously been involved with startupsStrong UI/UX and wireframing experienceExperience with both mobile (Android, iOS) and web-based applications Position logistics:Direct HireW2 candidates onlyLocal candidates strongly preferred What’s in it for You:Cool, fast growing and nimble company with a central Silicon Valley location.Great opportunity to enhance or solidify your skills with an excellent, diverse and experienced team.Work with key management, across business units and have a major impact on how the business is run. About Maxonic:Since 2002 Maxonic has been at the forefront of connecting candidate strengths to client challenges.  Our award winning, dedicated team of recruiting professionals are specialized by technology, are great listeners, and will seek to find a position that meets the long term career needs of our candidates.  We take pride in the over 5,000 candidates that we have placed, and the repeat business that we earn from our satisfied clients. Interested in Applying?We can’t wait to see your resume!  Please feel free to email Jasleen Oberoi (jasleen@maxonic.com) or call 408-739-4900 x 106.  Key Words:  Android, Mobile.",
         "Dice Id : 10108942",
         "Mountain View, CA",
         "Lead Mobile Product Manager- 12255",
         "7 hours ago",
         "Telecommuting not available|Travel not required",
         null,
         "Android, Mobile",
         "2831bbdba025f87efca38b9761f26b95"
        ],
        [
         "33",
         "https://www.dice.com/jobs/detail/4709317-Project-Planner%2526%252347Scheduler-CSI-%2528Consultant-Specialists-Inc.%2529-South-San-Francisco-CA-94080/10106409/4709317ProjPlSc?icid=sr14474-483p&q=&l=California,%20Us,%20CALIFORNIA",
         "CSI (Consultant Specialists Inc.)",
         "Contract W2, 19 Months",
         "Description:Monitor and update integrated project plans and schedules so that projects can be executed in the most efficient manner possible.Prepare baseline schedules and schedule basis documents for approval by project teams.Assess impacts to the critical path and near-critical activities and report to the project team.Monitor schedule deviations and variances and assist in the developing alternate methods for corrective action.Prepare and provide schedule progress reports, trending charts and schedule analysis on a periodic basis.Maintain record of scope changes, trends and variances that potentially affect schedule performance.Assure credibility of the information contained in the schedule.Review schedules with project team members on a regular basis to ensure that accurate and timely data is incorporated in the schedule.Analyze schedules from A/E firms, Vendors and General Contractors.Verify schedule integrity and evaluate logic and float paths.Evaluate activity sequences for constructability.Make recommendations to manage float and (re)sequence activities (if required) to achieve project milestone dates and interim target completion dates.Analyze change orders for schedule impacts.Resource load schedules as required by the project team.Perform jobsite walks to verify physical progress of scheduled activities.Facilitate project scheduling meetings and/or interactive planning meetings as required by the project team.Participate in project meetings at the discretion of the project manager.Participate in departmental staff meetings.Comply with departmental scheduling practices and procedures.At the completion of the project, develop and record the project's historical schedule information and \"lessons learned\" for future use. Skills:Minimum 10 years of experience as a planner/scheduler on facilities capital projects, including design and construction phases.Demonstrated expertise in the use of modern planning and scheduling principles, methodologies, techniques and tools.Proficiency using Primavera Version 6 and Microsoft Project Standard 2003.Pharmaceutical/Biotech project experience, including commissioning and validation activities, is preferred.Experience with planning controls systems, Automation, GAMP, Emerson & Delta V would be a plus. Education:10 yrs or similar Certification by AACE or PMI in planning/scheduling is preferred.",
         "Dice Id : 10106409",
         "South San Francisco, CA",
         "4709317 Project Planner/Scheduler",
         "7 hours ago",
         "Telecommuting not available|Travel not required",
         null,
         "Scheduling, Primavera 6.0, Unifier, MS Project Stadard, EIT, Construction, Pharma or Biotech",
         "2b2322459de27834b0c3c86737fb16a8"
        ],
        [
         "34",
         "https://www.dice.com/jobs/detail/Business-Systems-Analyst-VanderHouwen-%2526-Associates%252C-Inc.-Hillsboro-OR-97124/vhassoc/31326-1807-MH58?icid=sr14659-489p&q=&l=California,%20Us,%20CALIFORNIA",
         "VanderHouwen & Associates, Inc.",
         "Contract W2, Contract",
         "VanderHouwen has more jobs you may like! Find them here: http://bit.ly/1RIQfgE PLEASE JOIN OUR TALENT NETWORK: http://bit.ly/vhatalentnetworkJoining the Talent Network with VanderHouwen & Associates (VHA) will enhance your job search and application experience. Job listings are mobile-friendly and easy to review, share, or apply. Whether you choose to just leave us your information or apply, we look forward to connecting with you.  SummaryOur client is looking for a Business Systems Analyst who is Comfortable working in an ambiguous, complex environment with various teams and groups.Qualifications Background in creation of Internal Software desired, as opposed to .com business.Working knowledge of 3D principles preferred.Design Tool experience (AI, Maya, Browzwear, etc.) preferred.",
         "Dice Id : vhassoc",
         "Hillsboro, OR",
         "Business Systems Analyst",
         "7 hours ago",
         "Telecommuting not available|Travel not required",
         null,
         "AI, Maya, Browzwear, 3D",
         "b923d29624fb4dc9e193aa30f8253ee6"
        ],
        [
         "35",
         "https://www.dice.com/jobs/detail/Lead-Java-Engineer-VanderHouwen-%2526-Associates%252C-Inc.-Portland-OR-97204/vhassoc/25747-1807-MH58?icid=sr14667-489p&q=&l=California,%20Us,%20CALIFORNIA",
         "VanderHouwen & Associates, Inc.",
         "Full Time, Full time",
         "PLEASE JOIN OUR TALENT NETWORK: http://bit.ly/vhatalentnetwork Joining the Talent Network with VanderHouwen & Associates (VHA) will enhance your job search and application experience. Job listings are mobile-friendly and easy to review, share, or apply. Whether you choose to just leave us your information or apply, we look forward to connecting with you. SummaryAssists supervisor with leadership and coordination of a team designing, implementing, documenting, and maintaining Java web applications. Works with BSA team to obtain requirements, prioritize, and plan the delivery of solutions. Provides guidance and coordination of technical implementations that adhere to enterprise system architecture, design, and implementation standards. Coordinates with other units to identify and schedule delivery of cross-team dependencies. Determines resource requirements and allocations. Assigns tasks to the team members, monitors the alignment with the overall project goals and reports on progress to various levels of management.Responsibilities Works with business representatives, clients, business partners, project managers, and team members to define requirements for applications targeted for the corporate internet/ intranet.Works with project managers, supervisors, and team members to determine work tasks and allocate resources.Leads the development team through solution design, implementation, and deployment in coordination with other IT and business departments.Identifies and resolves design and implementation issues and conflicts.Leads and coordinates the maintenance and enhancement of Internet/Intranet applications. Provides technical support to application administrators and staff.Provides development and production support status updates to management.Develops business relationships with clients and business partners. Strong understanding of client business processes needed.Resolves issues that arise with vendor technical support.Performs other duties as assigned.Qualifications Bachelor degree or equivalent specializing in Computer Science, Math, Business, and/or Engineering.Extensive understanding of web technologies and programming languages. Ability to keep current with emerging internet technologies.5+ years computer programming experience in Java and Java EE. Experience with JSF, Spring, Struts, and Hibernate preferred.Solid background in client/server programming and relational database systems.Outstanding analytical, problem solving, organizational, and detail orientation skills.Strong ability to negotiate, prioritize, determine tasks and allocate resources.Ability to work well under pressure, work with frequent interruptions, and shifting priorities.Maintain confidentiality and project a professional business image.",
         "Dice Id : vhassoc",
         "Portland, OR",
         "Lead Java Engineer",
         "7 hours ago",
         "Telecommuting not available|Travel not required",
         null,
         "Java and Java EE, JSF, Spring, Struts, and Hibernate",
         "5be5533c9ed448d1ef92016a56573869"
        ],
        [
         "36",
         "https://www.dice.com/jobs/detail/Project-Coordinator-II-Genesis10-Chicago-IL-60290/gentx001/16-04093?icid=sr14528-485p&q=&l=California,%20Us,%20CALIFORNIA",
         "Genesis10",
         "Full Time, Contract",
         "Genesis10 is seeking MxU Construction Coordinators in Chicago, IL! As an MxU Construction Coordinator, you are responsible for providing technical solutions and managing relationships with the client's MDU product team. Your role is key in moving our clients MDU (multi-dwelling unit) projects from sales throughout completion of construction. You will have a demonstrated passion for account management with an entrepreneurial spirit and passion for client management, eventually managing a small team of temps across Fiber cities in your region. Our clients projects, like their users, span the globe and require managers to keep the big picture in focus. As an MxU CC, you lead complex, multi-disciplinary projects. You plan requirements with internal customers and usher projects through the entire project lifecycle. This includes managing project schedules, identifying risks and clearly communicating goals to project stakeholders. Your projects often span offices, time zones and hemispheres, and it's your job to keep all the players coordinated on the project's progress and deadlines. Responsibilities Manage Salesforce construction project tickets end to end and ensure all SLA's are being met Attend staff meetings and assist Fiber sales with engineering & construction questions as requested by Fiber sales or engineering teams Work with partners closely on the end to end process from site selection to installation including contracts, escalations, scheduling, etc. Work closely with cross-functional teams:   construction, legal, product, PR, management team, etc. Partner with the local construction team to provide weekly metrics and updates for each city in your region Own and manage projects with multiple stakeholders, both ongoing and ad hoc basis. Track progress of multiple sites and keep team's progress updated Minimum Qualifications 3-5 years of industry or sales/account management experience working with clients and setting expectations appropriately with strong customer satisfaction scores. Ability to work cross- functionally with Sales & MDU operations, as well as our local sales teams, engineering, marketing, and field management to ensure our client SLA's are explained and executed on time BA/BS degree Project/program management experience; deadline and detail-oriented (PMP preferred) Experience in measuring and improving productivity, and scaling initiatives Preferred Qualifications Proficiency in using Salesforce strongly preferred Understanding of MDU process flow from contract to construction completion. Comfortable with database management & MDU design An understanding of MDU engineering & construction, such as various industry design standards, and construction methods in both condo & tenant MDU environments Flexible (ability to work across different time zones) and able to think quickly Experience training and mentoring junior colleagues If you have the described qualifications and are interested in this exciting opportunity, please apply! About Genesis10:   Genesis10 is a leading U.S. business and technology consulting firm with hundreds of clients needing proven talent and solutions to power their strategic initiatives. If you are a high performing telecommunications or IT professional with solid, referenced experience, we want to meet you. Genesis10 recruiters and delivery professionals are highly accomplished career advocates, who get to know you beyond your resume to position you with the opportunities that fit your skills, experience and aspirations. We have benefit options to fit your needs and a support staff that works with you from placement throughout your engagement - project after project. To learn more about Genesis10 and to view all our available career opportunities, please visit us at www.genesis10.com. \"Genesis10 is an Equal Opportunity Employer, M/F/D/V\"",
         "Dice Id : gentx001",
         "Chicago, IL",
         "Project Coordinator II",
         "7 hours ago",
         "Telecommuting not available|Travel not required",
         null,
         "Consulting, Database, Lifecycle, Management, Metrics, PMP, Project, Sales, SalesForce, Scheduling, Telecommunications",
         "ebdaa795cb443c6b7881b7a15c4c25b1"
        ],
        [
         "37",
         "https://www.dice.com/jobs/detail/Core-Java-Developer-with-distributed-computing-Etouch-Systems-Corp-Mountain-View-CA-94043/etouch/Java_Search?icid=sr14837-495p&q=&l=California,%20Us,%20CALIFORNIA",
         "Etouch Systems Corp",
         "Contract Independent, Contract W2, 12+ Months",
         "Hi,Established in 1998, eTouch Systems is a technology services company that specializes in Digital Web Engineering. We deliver technology services and accelerate growth for Global 1000 companies by solving complex business challenges with breakthrough technical innovations. We partner with leading global hi-tech enterprises to service their business and technology needs. currently working with our direct clients including VMware, Intuit, Cisco, Yahoo, Sony, Google, PG&E & Kaiser amongst others enabling the success of their Software as well as IT infrastructure development initiatives through the quality of our consultants.Role: Core Java Developer with distributed computing Location: Mountain view, CA Duration: 12+ Months We are a team with the vision to change the way our customers interact with our products to discover contextual relevant content. With millions of customers using our software you will be part of cutting edge team that is responsible for building highly scalable and distributed search system at scale that renders contextual relevant contents. You will be working with recognized experts, Data Scientist, Data Engineers, Solution Architects in the field to deliver “On-Tap” Unified Search as a Service & best in class search user experiences for web & mobile. Required Skills:Need a strong core Java Developer with some good Data experience. Must have experience with distributed computing.Good working knowledge on Vector Model Search and AWS. Please feel free to send your questions on my way at gnagaraju@etouch.net/ 510 585 1527 ©, if you would like to learn more of this need. Thank you. Best regards,Raju | eTouch Systems | Desk phone: +1.510.795.4800 X 159 Cell phone: +1.510.585.1527| Email: gnagaraju@etouch.net | Fax: +1.510.795.4803 | URL: www.etouch.net  Linked In:  http://www.linkedin.com/in/graju/ Custom Development Solutions| Integration & Support Services| Professional Services6627 Dumbarton Circle | Fremont, CA 94555",
         "Dice Id : etouch",
         "Mountain View, CA",
         "Core Java Developer with distributed computing",
         "7 hours ago",
         "Telecommuting not available|Travel not required",
         null,
         "Need a strong core Java Developer with some good Data experience. Must have experience with distributed computing.",
         "d92f267244249065890ee6bde5275f49"
        ],
        [
         "38",
         "https://www.dice.com/jobs/detail/Software-Developer-VanderHouwen-%2526-Associates%252C-Inc.-Redmond-WA-98052/vhassoc/30236-1807-MH58?icid=sr14772-493p&q=&l=California,%20Us,%20CALIFORNIA",
         "VanderHouwen & Associates, Inc.",
         "Contract W2, Contract",
         "PLEASE JOIN OUR TALENT NETWORK: http://bit.ly/vhatalentnetwork  Joining the Talent Network with VanderHouwen & Associates (VHA) will enhance your job search and application experience. Job listings are mobile-friendly and easy to review, share, or apply. Whether you choose to just leave us your information or apply, we look forward to connecting with you.Summary The ideal candidate is a clever, motivated and versatile coder with a hacker mentality who is eager to tackle complex problems. The candidate must be comfortable working in an agile development environment with high expectations for rapid delivery of prototypes, changing requirements, and direct feedback from the internal business customer.  Candidates should be able to learn fast and learn on the fly in order to work with a variety of languages, and be capable of taking responsibility for delivering code that accomplishes defined objectives.  Qualifications Required .NET and C# (Minimum 2 years* experience)Full development lifecycle experience including analysis, design, implementation, testing, monitoringSQL Server: Data modelling, T-SQL, Stored procs, Performance TuningBS or higher degree in Computer Science or related technical field. Qualifications Preferred Microsoft Azure or other cloud technologies Cosmos or other big data technologiesWeb API/UI development",
         "Dice Id : vhassoc",
         "Redmond, WA",
         "Software Developer",
         "7 hours ago",
         "Telecommuting not available|Travel not required",
         null,
         ".NET and C#, SQl",
         "8cbcc9ef3be25e4409fcb4ab55d6503d"
        ],
        [
         "39",
         "https://www.dice.com/jobs/detail/Mobile-Automation-Tester-%252C-Rate-%253AOpen-Negotiable%252C-1-year-Centizen-Beaverton-OR-97006/10429942/560124?icid=sr14252-476p&q=&l=California,%20Us,%20CALIFORNIA",
         "Centizen",
         "Full Time, Contract Corp-To-Corp, Contract Independent, Contract W2, C2H Corp-To-Corp, C2H Independent, C2H W2",
         "Centizen Inc, Global agile IT solutions and consulting firm focused in delivering scalable‏ solutions to address complex business problems. We provide above market salaries and benefits so that we have a lower turnover rate. Please visit our website to see all our open positions(20+) in PM, QA, BSA, SAP, Analytics, Java developers etc. http://careers.centizen.com/Mobile Automation Tester:453753SRate : Open Negotiable for the right candidateDuration: 1 yearLocation: Beaverton, ORResponsibilities:Manual and automated testing of mobile applications (iOS and Android).Manual and automated testing of Sports CE (Consumer Electronics) devices.Manual and automated testing of Mac and PC applications.Manual and automated testing of websites.Requirements:4 years of professional experience in quality engineering, IT or related area3 years hands-on experience testing desktop applications, consumer electronics devices, and websitesInterest in testing sports and fitness applications and devicesExperience authoring comprehensive test plans and test scriptsExcellent verbal and written communication and collaboration skills to effectively communicate with both business and technical teamsComfortable working in a fast-paced, results-oriented environmentTo Apply:We offer immediate H1B transfer. Immediate Green Card processing with PERM for the right candidates.Please send us your resume, Visa Status, Availability and bill rate to sdet@centizen.comPlease follow us on:Open Positions-http://www.careers.centizen.com/Facebook -https://www.facebook.com/CentizenLinkedIn -http://www.linkedin.com/company/centizenTwitter -http://twitter.com/centizenincWe are always looking to network, so if you are in the market or just interested in hearing about future opportunities, please send us a current resume along with your hourly compensation requirements. If you would like to add to our linked in professional network, here is our linked in profile http:// www.linkedin.com/in/leemaWhy Centizen is the right IT solutions and consulting services company to work with:-There are many advantages for IT professionals like yourself to work with Centizen.  These include:We enjoy approved IT vendor status with several leading companies in the Pacific Northwest and are focused on growing our list of  approved vendor status with several additional companies.    We are an ethical company with high integrity and a dedication to delivering high results with our clients.    We are fair and honest in all of our business dealings with our consultants and clients    We pay top scale hourly rates based on your credentials, experience and market demand    We can offer related benefits as needed and customized to your situation    We can work with you to help you achieve your career growth and goals",
         "Dice Id : 10429942",
         "Beaverton, OR",
         "Mobile Automation Tester , Rate :Open Negotiable, 1 year",
         "6 hours ago",
         "Telecommuting not available|Travel not required",
         null,
         "Manual and Automation Mobile testing experience-Desktop applications, Consumer Electronics Devices, and Websites",
         "e2f1a046c937631529aec11a56f8590a"
        ],
        [
         "40",
         "https://www.dice.com/jobs/detail/Project-Manager-%253A--Information-Security-and-Risk-Management-CSI-%2528Consultant-Specialists-Inc.%2529-San-Francisco-CA-94111/10106409/PM-FB?icid=sr14338-478p&q=&l=California,%20Us,%20CALIFORNIA",
         "CSI (Consultant Specialists Inc.)",
         "Contract W2, C2H Corp-To-Corp, C2H Independent, market",
         "Project Manager Contract postition located in downton San Francisco.  Sorry no H1B sponsorship available on this one.      Local and candidates willing to relocate are encouraged to apply.   A background in Banking, Wealth Management, Financial Services is a HUGE PLUS.   Any exposure to INFO SEC is a plus.  Any background in Operations Management is a huge plus.      Please email resume to Ellen at elerner@csi-it.com attached as a Word Doc.    Please include rate info.  You must have GOOD CREDIT in order to qualify for this role. Key Skills, Knowledge and Abilities:· The Project Manager (with some business analysis skills) who is well-versed in Banking, Wealth Managemennt, Financial Services, Regulated environments. security architecture and controls; familiar with current and emerging threats; able to develop risk mitigation strategies required to protect the confidentiality, integrity and availability of information systems and client data; proficient at working with senior management, internal business units and vendors to resolve risk issues and to develop efficient and effective action plans; familiar with the laws, regulations, industry standards and guidance pertaining to information security; experienced in the oversight of multiple, complex projects; and able to effectively manage a team of risk analysts. Must have excellent verbal and written communication skill, the ability to understand business requirements and skill in interacting with and influencing senior management.· Requires a four-year college degree with emphasis in a computer related field or the equivalent skills, knowledge and mental development.· Requires a minimum of ten years in Project Managemebt and a background in Information Security and Risk Management with prior experience in a security management leadership position managing a security and governance program is a huge plus.  .· Requires hands-on experience with security management products.· CISSP and CISM/CISA certifications preferred.· Requires working knowledge of IP routing and networks, encryption, firewalls, intrusion detection systems, VPN’s, UNIX, Linux, and Windows operating systems and identification, authentication and authorization systems and accounting policies.· Must possess excellent written and oral communications skills and the ability to problem-solve technical issues.· Requires the application of compliance and risk management efforts within a highly regulated environment.· Must be able to clearly define and present ideas, and effectively communicate with all levels of management.· Requires the flexibility to act in both a strategic management role as well in a technical leader capacity when required.· Requires proficiency with varied types of computer hardware and software and with varied computer and network operating systems.· Must possess a general knowledge of all bank operations.· Must exercise a reasonable amount of independent judgment under a minimum of supervision.· Requires strong interpersonal and organizational skills, including the ability to meet deadlines.· Requires analytical abilities to weigh each identified security risk against the expense of enforcing and monitoring its mitigating security control.· Requires the ability to lead a strong team and achieve results in a challenging environment.· Team player· Provides extraordinary serviceBasic Skills and Experience Required: · Effectively manage a team of risk analysts· Excellent verbal and written communication skills and the ability to problem-solve technical issues· Requires a four-year college degree with emphasis in a computer related field or the equivalent skills, knowledge and mental developmentRequires hands-on experience or at least familiarity with security management productsPossess a general knowledge of all BANKING operations.CISSP and CISM/CISA certifications preferred· Requires working knowledge of IP routing and networks, encryption, firewalls, intrusion detection systems, VPN’s, UNIX, Linux, and Windows operating systems and identification, authentication and authorization systems and accounting policies· Well versed in security architecture and controls· Familiar with current and emerging threats· Able to develop risk mitigation strategies required to protect the confidentiality, integrity and availability of information systems and client data· Familiar with laws, regulations, industry standards and guidance pertaining to information security· Experience in the oversight of multiple, complex projects· Ability to understand business requirements and skill in interacting with and influencing senior management. ",
         "Dice Id : 10106409",
         "San Francisco, CA",
         "Project Manager : Information Security and Risk Management",
         "7 hours ago",
         "Telecommuting not available|Travel not required",
         null,
         "Project Management, Operations Analysis, BANKING, (Financial Services, Wealth Management, Regulated Environment, Info Sec, Security and Risk Management,",
         "a2ef697606d460795dda16de672a5d5d"
        ],
        [
         "41",
         "https://www.dice.com/jobs/detail/Informatica-Admin-Mygo-Consulting-Tampa-FL-33602/90888016/570827?icid=sr14314-478p&q=&l=California,%20Us,%20CALIFORNIA",
         "Mygo Consulting",
         "Contract Corp-To-Corp, 6+ MONTHS",
         "Administering the Informatica environmentApply patches / upgrades / hotfixes for Informatica Power CenterMonitor performance, troubleshoot, and tune ETL processesWill be responsible for 24x7 supportWork with Informatica vendor on any issues that ariseSupport the Informatica developer team as neededExperience and SkillsMust have demonstrated experience in Informatica suite of productsSeveral years’ experience in building/implementing scalable, reliable and high performance ETL architecturesProficiency with RDBMS systems, SQL, Oracle PL/SQL, UNIX shell scripting, and database optimizations  I kindly request to apply resumes with genuine experience only Project start date is in second week of JulyKindly send your resumes to yag{dot}rao{at}mygoconsulting{dot}com..You can reach me on Three*Three*One---Four*Two*Five---Seven*Seven*Zero*Five Regards,Yagneshwar Rao yag.rao@mygoconsulting.comOffice: 331-425-7705 ",
         "Dice Id : 90888016",
         "Tampa, FL",
         "Informatica Admin",
         "7 hours ago",
         "Telecommuting not available|Travel not required",
         null,
         "Informatica Admin,Oracle,Sql",
         "d1130a38c05cd6f6df40a2636a76ea5b"
        ],
        [
         "42",
         "https://www.dice.com/jobs/detail/Software-Development-Engineer%252C-Big-Data-Amazon-Austin-TX-73301/amazsell/404691?icid=sr14949-499p&q=&l=California,%20Us,%20CALIFORNIA",
         "Amazon",
         "Full Time, Fulltime",
         "Do you want to help build a highly personalized homepage that greets each of our millions of customers worldwide every time they visit Amazon.com? Are you interested in building data pipelines that process petabytes of customer behavior data?Amazon’s Homepage Personalization team develops and supports personalization and recommendations for Amazon customers across music, books, movies, fashion, and everything else that Amazon offers. We analyze petabytes of implicit and explicit feedback data on our hundreds of millions of customers and billions of products in order to guide the development of a meaningful and highly personalized homepage experience.We are looking for an experienced and forward thinking software engineer with a focus on data engineering to join our team. This person will work closely with other software engineers and machine learning scientists to design and implement predictive, scalable models for everything from product recommendations to personalized mobile content layouts. You will work directly with machine learning scientists to scale up collaborative filtering models on retail purchases, Prime Video views, Prime Music streams, and other Amazon data to deeply understand our customers.This is one of the foremost roles in data engineering with the opportunity to reach millions of customers on one of the highest traffic consumer websites in the world. If you are passionate about data engineering, software engineering and personalization at scale then we encourage you to apply.- BS or MS degree in computer science or related field.- Strong coding experience, preferably with Scala, Python, Java, or C++.- Strong grasp of data structures and algorithms.- Ability to explain complex issues in technical and non-technical terms.- Cares deeply about agile software practices, data driven development, and collaborating with other engineers and researchers.- Working knowledge of Hadoop, Spark, Redshift, DynamoDB, Kinesis, or other big data technologies.- Experience with supervised and unsupervised machine learning models.- Experience with collaborative filtering and recommender systems.- Experience running and evaluating AB Tests.",
         "Dice Id : amazsell",
         "Austin, TX",
         "Software Development Engineer, Big Data",
         "7 hours ago",
         "Telecommuting not available|Travel not required",
         null,
         "DESCRIPTION Do you want to help build a highly personalized homepage that greets each of our millions of customers worldwide every time they visit Amazon.com? Are you interested in building data pipelines that process petabytes of customer behavior data? Amazon's Homepage Personalization team develops and supports personalization and recommendations for Amazon customers across music, books, movies, fashion, and everything else that Amazon offers. We analyze petabytes of implicit and explicit feedback data on our hundreds of millions of customers and billions of products in order to guide the development of a meaningful and highly personalized homepage experience. We are looking for an experienced and forward thinking software engineer with a focus on data engineering to join our team. This person will work closely with other software engineers and machine learning scientists to design and implement predictive, scalable models for everything from product recommendations to personalized mobile content layouts. You will work directly with machine learning scientists to scale up collaborative filtering models on retail purchases, Prime Video views, Prime Music streams, and other Amazon data to deeply understand our customers. This is one of the foremost roles in data engineering with the opportunity to reach millions of customers on one of the highest traffic consumer websites in the world. If you are passionate about data engineering, software engineering and personalization at scale then we encourage you to apply. BASIC QUALIFICATIONS - BS or MS degree in computer science or related field. - Strong coding experience, preferably with Scala, Python, Java, or C++. - Strong grasp of data structures and algorithms. - Ability to explain complex issues in technical and non-technical terms. - Cares deeply about agile software practices, data driven development, and collaborating with other engineers and researchers. - Working knowledge of Hadoop, Spark, Redshift, DynamoDB, Kinesis, or other big data technologies. PREFERRED QUALIFICATIONS - Experience with supervised and unsupervised machine learning models. - Experience with collaborative filtering and recommender systems. - Experience running and evaluating AB Tests.",
         "8cb4914f42c5b805d19be0952b3c88e9"
        ],
        [
         "43",
         "https://www.dice.com/jobs/detail/Sr.-Business-Data-Analyst-Genesis10-Eagan-MN-55120/gentx001/16-04046?icid=sr14546-485p&q=&l=California,%20Us,%20CALIFORNIA",
         "Genesis10",
         "Full Time, Contract",
         "Genesis10 is seeking a Sr. Business Data Analyst for a 6-month contract position with a client in Eagan, MN. Genesis10 provides access to career opportunities with over 40 clients in the Twin Cities. As the #3 ranked firm for Business and IT consulting in Minnesota, we offer a variety of opportunities whether you are looking for contract, contract-to-hire, or permanent positions. Let's connect today! Responsibilities:   * Data gathering and analysis as part of assigned tasks and projects * Creating data visualization as part of assigned tasks and projects * Assist Editorial Service teams with market analysis and related requests * Assist in Market Analysis, Jurisdictional build and retention model projects * Assist in development and implementation of Strategy Insights Framework in the areas of data analysis, KPI development and reporting * Interact with partner teams to manage tasks and projects * Other projects and tasks as assigned Qualifications:   * Bachelor's degree * BS in statistics, math or data science related field of study preferred * Experience in a Business Analyst or related role involving data analysis * Strong Excel skills including charting, Pivot tables, statistical and data cleanup functions * Basic PowerPoint, Word, Outlook skills * Fundamental statistical, data analysis and visualization skills * Strong communication skills * Ability to build effective working relationships with members of team and partner organizations * Good written and oral communications skills able to converse with many levels of the organization * Able to work with product, editorial, data and marketing teams (including segment partners) in a collaborative manner to achieve positive results * Strong team player who understands consensus and works toward the success of the team and organization * Ability to present ideas in a clear and concise manner * Able to work with little direct supervision * Able to work effectively in a team environment where team members may not be co-located * Self-motivated and pro-active * Good analytical and process improvement skills * Understands expectations that were set with team and recognizes when issues / events may affect delivery Preferred Qualifications:   * Ability to create SQL or MS Access queries and reports * Experience using Tableau or similar data visualization tools * Statistical modelling background a plus If you have the described qualifications and are interested in this exciting opportunity, apply today! Benefits of Working with Genesis10:   As a Genesis10 consultant, we are proud to offer access to the following benefits: * Medical and dental insurance * Bi-weekly payroll * 401k plan * Downtown Minneapolis/St. Paul parking allowance * Delivery Manager for employee support * Successful re-marketing program * Referral program with the opportunity to earn additional income About Genesis10:   Genesis10 is a Professional Technology Services Firm providing Staffing, Workforce Optimization and Domestic Outsourcing Solutions. If you are a high performing business or IT professional with solid, referenced experience, we want to meet you. Genesis10 recruiters and delivery professionals are highly accomplished career advocates, who get to know you beyond your resume to position you with the opportunities that fit your skills, experience and aspirations. We have benefit options to fit your needs and a support staff that works with you from placement throughout your engagement - project after project. To learn more about Genesis10 and to view all our available career opportunities, please visit us at www.genesis10.com \"Genesis10 is an Equal Opportunity Employer, M/F/D/V\"",
         "Dice Id : gentx001",
         "Eagan, MN",
         "Sr. Business Data Analyst",
         "7 hours ago",
         "Telecommuting not available|Travel not required",
         null,
         "Analysis, Analyst, Business Analyst, Consulting, Data Analysis, Development, Excel, Manager, Outlook, PowerPoint, Project, SQL, Supervision",
         "8c50099ba0e24e089c12c6e68bb2bdc6"
        ],
        [
         "44",
         "https://www.dice.com/jobs/detail/Clinical-Site-Monitor-Alpha-Consulting-Corp.-Los-Angeles-CA-90001/alphacon/16-00755?icid=sr14149-472p&q=&l=California,%20Us,%20CALIFORNIA",
         "Alpha Consulting Corp.",
         "Contract Independent, Contract W2, 6+ mos",
         "CLINICAL SITE MONITOR REQUIREMENT #16-00755RECRUITER: ANNIE DOYLEJOB LOCATION: LOS ANGELES, CAMAY 12, 2016 *** CANDIDATES MUST BE ABLE TO WORK ON OUR PAYROLL AS A W-2 ****** WE WILL SPONSOR H1-B VISA'S *** Project Description:Position located in Los Angeles, CA area and will manage sites in this area and help region cover Northern and Southern California as needed. Perform/facilitate time-efficient pre-study initiation process. Orient site personnel to study protocol/procedures. Monitor compliance to FDA Regulations and BMS SOP. Manage study site activities through frequent on-site visits and telephone contracts Required Skills: On-site monitoring experience required of multiple protocols in multiple therapeutic areas, including oncology. This 6+ month position starts ASAP. Please E-MAIL your resume (attachment to email) with rate and availability to Annie: annie@alphaconsulting.com",
         "Dice Id : alphacon",
         "Los Angeles, CA",
         "Clinical Site Monitor",
         "6 hours ago",
         "Telecommuting not available|Travel not required",
         null,
         "(SITE OR ON SITE OR ON-SITE ) AND(MONITOR OR MONITORING ) AND(PHARMA OR PHARMACEUTICAL COMPANIES ) AND(CRA OR CLINICAL RESEARCH ASSOCIATE )",
         "d6920e2979999da6d892774e2be97b75"
        ],
        [
         "45",
         "https://www.dice.com/jobs/detail/Product-QA-Engineer-Eastridge-Workforce-Solutions-Las-Vegas-NV-89101/eastsd/44530-28-MH1480?icid=sr14652-489p&q=&l=California,%20Us,%20CALIFORNIA",
         "Eastridge Workforce Solutions",
         null,
         "Job Summary: The person in this position provides the quality-assurance support to customers, service teams, assigned production operations and programs to ensure that the product is built in accordance with customer and division quality requirements while maintaining production flow.Essential Job Functions: Provides Customer Quality interface and expertise to proactively assure requirements are understood and satisfied Investigates, contains and eliminates causes of customer quality problems and manage completion of corrective actions requests Analyzes organizational customer quality metrics and performs periodic reviews to evaluate results and recommendation action plans to close gaps in the supply chain Develops and analyzes statistical data and product/process performance to recommend and implement improvements in targeted areas Supports Supply Chain Management organization relative to the collection and analysis of customer quality data providing expertise to assists service management teams and customers with product and process quality requirements Reviews sales orders and associated bills of materials to ensure that customer order requirements are clearly specified and planned for, prior to release for production build Qualifications: Bachelors Degree preferably BSEE or BSME, or equivalent experience. 5 yrs experience with Product Quality Assurance Minimum of 5 years* experience in Quality Assurance Casino/Gaming experience preferredKnowledge, Skills, & Abilities: Understanding of problem solving methods, i.e. 8D and the associated statistical tools used to analyze problems, evaluate and complete improvement projects Knowledge of Lean Manufacturing and Process Variation Reduction (Six Sigma) concepts and tool sets as they relate to process/product variability, and root cause and corrective action determination Proficient understanding and interpreting engineering specifications, mechanical drawings, and/or electrical schematic Demonstrated ability to lead/coordinate projects with cross-functional teams Knowledge of inspection methods in the design, fabrications, and production of electronic equipment Familiar with recognized Quality Assurance Standards AS9100, ISO 9001, AS9102",
         "Dice Id : eastsd",
         "Las Vegas, NV",
         "Product QA Engineer",
         "7 hours ago",
         null,
         null,
         "Telecommuting not available Travel not required",
         "72e40fa6a09e015785a798433af77387"
        ],
        [
         "46",
         "https://www.dice.com/jobs/detail/System-Support-Administrator-Eastridge-Workforce-Solutions-Las-Vegas-NV-89148/eastsd/44529-28-MH1480?icid=sr14810-494p&q=&l=California,%20Us,%20CALIFORNIA",
         "Eastridge Workforce Solutions",
         null,
         "System Support AdministratorSeeking a part-time System Support Administrator to assist in supporting our offices across the Las Vegas valley.Key Responsibilities: Perform hands-on fixes remotely or in person, including installing and upgrading software, installing hardware, implementing file backups, and configuring systems and applications. Loading computer equipment with software, access software updates, drivers, knowledge bases Perform preventative maintenance, maintain, implement, and ensure functionality of technology and other IT equipment. Install and trouble shoot surveillance camera systems Evaluate documented resolutions and analyze trends for ways to prevent future problems. Alert management to emerging trends in incidents. Assist with other duties as assignedQualifications: High School diploma required. Some college preferred. Previous work experience with a customer service focus. Experience in computer hardware and related internet hook up. Proficiency in computer software programs including Microsoft Office suite. Reliability is a must along with effective interpersonal skills to work with all levels of personnel. Experience with touch screen interactive systems",
         "Dice Id : eastsd",
         "Las Vegas, NV",
         "System Support Administrator",
         "7 hours ago",
         "Telecommuting not available|Travel not required",
         null,
         "(See Job Description)",
         "47d7528160f4860a7bfd6dc1b9cdefb8"
        ],
        [
         "47",
         "https://www.dice.com/jobs/detail/Java-Developer-%2528Ecommerce%2529-Ascent-Miami-FL-33131/itca001/16-03602?icid=sr14090-470p&q=&l=California,%20Us,%20CALIFORNIA",
         "Ascent",
         "Contract Independent, Contract W2",
         "Job Req #: 16-03602 Job Description:  Java Lead with eCommerce development experience - Key Responsibilities and Qualifications: Looking for two-to-three Senior Java Developers with experience in eCommerce. Strong Java, Spring Framework and Hibernate ORM.  The ideal candidate will have experience building their own e-commerce product or working with an existing ecommerce site.  Looking for typical eCommerce experience such as PIM, PCI, shopping carts, payment gateways, catalogs, etc.  Any experience with BroadLeaf, ElasticPath or KonaKart is a plus.   My client will train on the eCommerce tools.  Location:  Miami, FLPosition Type: ContractDiane DouglasSenior IT Recruiter/Account LeadAscent303-694-5493 **If this is not a fit for you or you are not interested, Ascent Services Group offers an excellent Referral Bonus!  We look forward to hearing from you! About Ascent:The Ascent Services Group (ASG) is a nationally recognized technology staffing and consulting firm whose fundamental business is providing staffing services to Small, Medium, and Large Enterprise clients in our core market verticals: Financial Services, Healthcare, Technology and Life Sciences.  As consultants for ASG, you will have access to many of the top clients within the industries we serve.  Our goal is to deliver innovative talent through proven best practices and effective resource optimization.  Become one of ASG’s candidates and experience the difference!IND05 ",
         "Dice Id : itca001",
         "Miami, FL",
         "Java Developer (Ecommerce)",
         "6 hours ago",
         "Telecommuting not available|Travel not required",
         null,
         "Looking for two-to-three Senior Java Developers with experience in eCommerce. Strong Java, Spring Framework and Hibernate ORM. The ideal candidate will have experience building their own e-commerce product or working with an existing ecommerce site. Looking for typical eCommerce experience such as PIM, PCI, shopping carts, payment gateways, catalogs, etc. Any experience with BroadLeaf, ElasticPath or KonaKart is a plus. My client will train on the eCommerce tools",
         "065002d37b05ad5fa6478b709b94a3a4"
        ],
        [
         "48",
         "https://www.dice.com/jobs/detail/Geolocation-Engineer-Alpha-Recruitment-Tucson-AZ-85701/10369051/520349?icid=sr14302-477p&q=&l=California,%20Us,%20CALIFORNIA",
         "Alpha Recruitment",
         "Full Time, Fulltime Permanent",
         "Clearance: Must be eligible to obtain a top secret clearance. We seek highly qualified, self-starting individuals to develop, implement, and test geolocation systems. This engineer will apply mathematics and physics to design and develop complex positioning systems for RF signals in demanding collection environments. In this role, the selected individual will be responsible for geolocation algorithm development, system engineering, and software implementation and testing. Experience with an existing geolocation approach/engine in a classified application/environment is a definite plus.Work includes system support through all phases of the life cycle from concept through final delivery, using an iterative design methodology to maximize productivity. Solutions are implemented on virtualized platforms. You will have access to a well-equipped computer / signal processing lab with emphasis on real data rather than simulation.Required:BS (MS or PhD preferred) in Electrical Engineering (preferred), Applied Math, Remote Sensing, or similar disciplineDemonstrated capability in scientific programming, especially C/C++Relocation to sunny Tucson, Arizona; Denver, Colorado is a potential alternativePossess (or ability to obtain) and maintain an SCI security clearance (US citizenship required)Preferred: Experience with an existing geolocation approach/observable processor in a classified application/environmentStrong DSP fundamentalsApplicable background includes GPS or other navigation systems; geolocation observable processing of TDOA only and TDOA/TDOA-dot (FDOA) measurements; electromagnetic propagation; multipath and interference mitigation; and mathematical techniques such as non-linear optimization and unbiased correlation.",
         "Dice Id : 10369051",
         "Tucson, AZ",
         "Geolocation Engineer",
         "7 hours ago",
         "Telecommuting not available|Travel not required",
         null,
         "Electrical Engineering degree with experience in scientific programming, especially C/C++, GPS or other navigation systems; geolocation observable processing.",
         "b2db6c4923a59708ff6c562b08c23c73"
        ],
        [
         "49",
         "https://www.dice.com/jobs/detail/Director-of-Product-Development-Alpha-Recruitment-Arlington-VA-22201/10369051/562158?icid=sr14413-481p&q=&l=California,%20Us,%20CALIFORNIA",
         "Alpha Recruitment",
         "Full Time, Fulltime Permanent",
         "Clearance: Active Secret required with strong preference for person with an in-scope TS/SBBI.Position OverviewBuild your career at a technology-driven company dedicated to Solving Great Challenges. We engineer ground-breaking technologies in the areas of communications, safety, feeding the world, energy independence, and resource preservation. Grounded in a common sense approach to an ever-changing world, we are powered by the people who boldly mix drive, courage, integrity, and innovation into the focused ability to solve great challenges. Our strength as a company has always been our desire and drive to Solve Great Challenges, and our culture is built on collaboration, creative thinking, and problem solving.The Director of Product Development will be responsible for planning, managing and directing all product activities, to meet customer needs and fit within the capabilities of the division.  Achieve financial and investment return goals, growth forecast, and operational metrics.  The position will have primary responsibility for the execution of the strategic plan defined by the business development team.Execution of this plan will involve coordinating the efforts of the software, hardware and algorithm teams across product development efforts that span both radar as well as stratospheric solutions. Our radar products specialize in sophisticated radar processing to provide a highly sensitive, yet low false alarm rate tracking picture. These products are capable of land, maritime, and air tracking and can be deployed on towers, aerostats, vessels, and UAVs. We are actively developing new sensors as well as exploring new platforms on which to deploy these sensors. The engineering team responsible for radar and stratospheric product development and support is comprised of approximately 20 and can vary in size as the organization scales. Team members are geographically diverse with the largest concentration in Arlington VA Essential Functions• Develop and execute budgets, short-term plans, and long-term plans, policies, procedures, and initiatives. Work with leadership team to maintain accountability to budgets, plans, and initiatives. • Maintain close surveillance over product development and support activities to assure proper allocation of resources and  achieve deadlines. • Assist with the evaluation and selection of new raw materials and vendors.• Serve as a liaison and mentor to assist with and expedite product related issues.• Monitor and initiate improvement projects to current processes or policies.• May be involved in the specification and selection of new manufacturing equipment.• Coordinate and/or direct major projects.• Work with leadership staff to develop and monitor metrics relevant to division business model.• Delegate appropriate responsibilities and assignments to team members.• Keep informed of new developments in the economy or marketplace that are relative to the success of the division.• Either directly or through team, assure staffing requirements are met.• Encourage team member growth and development.• Demonstrates the Dimensions of Competition and Team Member Values in their daily actions and encourages their teams to do the same.• Administer annual team member performance reviews, goal setting, and salary planning.• Maintain records on direct reports in relation to attendance and performance.• May be called upon to perform comparable duties of a similar or related nature and/or assist in other areas as needed.• Learning, understanding, continuously improving, and promoting the division’s quality management system in accordance with ISO standards. Education/Experience• Bachelor’s degree in business or technical field.• Minimum 8 years related experience; or equivalent combination of education and experience. Knowledge/skills/abilities• Thorough knowledge of product development and procedures, including knowledge of general accounting. Ability to manage a diverse range of technical operations. Experience managing budgets and increasing efficiencies.• Knowledge of TQM, Six Sigma, or Kaizen principles is preferred.• Demonstrated leadership, analytical, and decision-making skills.• High level of patience and service. Ability to motivate team members.• Ability to be flexible and multitask. Creativity and problem solving skills.• Computer proficiency, including Microsoft Word, Excel, and Outlook.• Ability to communicate effectively with team members and leadership staff.• Annual Motor Vehicle Record (MVR) check required.   ",
         "Dice Id : 10369051",
         "Arlington, VA",
         "Director of Product Development",
         "7 hours ago",
         "Telecommuting not available|Travel not required",
         null,
         "Active Secret clearance required, knowledge of product development and procedures, including knowledge of general accounting. Ability to manage a diverse range of technical operations",
         "d997f70cf7082ec18ffbb3e7c382001c"
        ]
       ],
       "shape": {
        "columns": 12,
        "rows": 22000
       }
      },
      "text/html": [
       "<div>\n",
       "<style scoped>\n",
       "    .dataframe tbody tr th:only-of-type {\n",
       "        vertical-align: middle;\n",
       "    }\n",
       "\n",
       "    .dataframe tbody tr th {\n",
       "        vertical-align: top;\n",
       "    }\n",
       "\n",
       "    .dataframe thead th {\n",
       "        text-align: right;\n",
       "    }\n",
       "</style>\n",
       "<table border=\"1\" class=\"dataframe\">\n",
       "  <thead>\n",
       "    <tr style=\"text-align: right;\">\n",
       "      <th></th>\n",
       "      <th>advertiserurl</th>\n",
       "      <th>company</th>\n",
       "      <th>employmenttype_jobstatus</th>\n",
       "      <th>jobdescription</th>\n",
       "      <th>jobid</th>\n",
       "      <th>joblocation_address</th>\n",
       "      <th>jobtitle</th>\n",
       "      <th>postdate</th>\n",
       "      <th>shift</th>\n",
       "      <th>site_name</th>\n",
       "      <th>skills</th>\n",
       "      <th>uniq_id</th>\n",
       "    </tr>\n",
       "  </thead>\n",
       "  <tbody>\n",
       "    <tr>\n",
       "      <th>0</th>\n",
       "      <td>https://www.dice.com/jobs/detail/AUTOMATION-TE...</td>\n",
       "      <td>Digital Intelligence Systems, LLC</td>\n",
       "      <td>C2H Corp-To-Corp, C2H Independent, C2H W2, 3 M...</td>\n",
       "      <td>Looking for Selenium engineers...must have sol...</td>\n",
       "      <td>Dice Id : 10110693</td>\n",
       "      <td>Atlanta, GA</td>\n",
       "      <td>AUTOMATION TEST ENGINEER</td>\n",
       "      <td>1 hour ago</td>\n",
       "      <td>Telecommuting not available|Travel not required</td>\n",
       "      <td>NaN</td>\n",
       "      <td>SEE BELOW</td>\n",
       "      <td>418ff92580b270ef4e7c14f0ddfc36b4</td>\n",
       "    </tr>\n",
       "    <tr>\n",
       "      <th>1</th>\n",
       "      <td>https://www.dice.com/jobs/detail/Information-S...</td>\n",
       "      <td>University of Chicago/IT Services</td>\n",
       "      <td>Full Time</td>\n",
       "      <td>The University of Chicago has a rapidly growin...</td>\n",
       "      <td>Dice Id : 10114469</td>\n",
       "      <td>Chicago, IL</td>\n",
       "      <td>Information Security Engineer</td>\n",
       "      <td>1 week ago</td>\n",
       "      <td>Telecommuting not available|Travel not required</td>\n",
       "      <td>NaN</td>\n",
       "      <td>linux/unix, network monitoring, incident respo...</td>\n",
       "      <td>8aec88cba08d53da65ab99cf20f6f9d9</td>\n",
       "    </tr>\n",
       "    <tr>\n",
       "      <th>2</th>\n",
       "      <td>https://www.dice.com/jobs/detail/Business-Solu...</td>\n",
       "      <td>Galaxy Systems, Inc.</td>\n",
       "      <td>Full Time</td>\n",
       "      <td>GalaxE.SolutionsEvery day, our solutions affec...</td>\n",
       "      <td>Dice Id : CXGALXYS</td>\n",
       "      <td>Schaumburg, IL</td>\n",
       "      <td>Business Solutions Architect</td>\n",
       "      <td>2 weeks ago</td>\n",
       "      <td>Telecommuting not available|Travel not required</td>\n",
       "      <td>NaN</td>\n",
       "      <td>Enterprise Solutions Architecture, business in...</td>\n",
       "      <td>46baa1f69ac07779274bcd90b85d9a72</td>\n",
       "    </tr>\n",
       "    <tr>\n",
       "      <th>3</th>\n",
       "      <td>https://www.dice.com/jobs/detail/Java-Develope...</td>\n",
       "      <td>TransTech LLC</td>\n",
       "      <td>Full Time</td>\n",
       "      <td>Java DeveloperFull-time/direct-hireBolingbrook...</td>\n",
       "      <td>Dice Id : 10113627</td>\n",
       "      <td>Bolingbrook, IL</td>\n",
       "      <td>Java Developer (mid level)- FT- GREAT culture,...</td>\n",
       "      <td>2 weeks ago</td>\n",
       "      <td>Telecommuting not available|Travel not required</td>\n",
       "      <td>NaN</td>\n",
       "      <td>Please see job description</td>\n",
       "      <td>3941b2f206ae0f900c4fba4ac0b18719</td>\n",
       "    </tr>\n",
       "    <tr>\n",
       "      <th>4</th>\n",
       "      <td>https://www.dice.com/jobs/detail/DevOps-Engine...</td>\n",
       "      <td>Matrix Resources</td>\n",
       "      <td>Full Time</td>\n",
       "      <td>Midtown based high tech firm has an immediate ...</td>\n",
       "      <td>Dice Id : matrixga</td>\n",
       "      <td>Atlanta, GA</td>\n",
       "      <td>DevOps Engineer</td>\n",
       "      <td>48 minutes ago</td>\n",
       "      <td>Telecommuting not available|Travel not required</td>\n",
       "      <td>NaN</td>\n",
       "      <td>Configuration Management, Developer, Linux, Ma...</td>\n",
       "      <td>45efa1f6bc65acc32bbbb953a1ed13b7</td>\n",
       "    </tr>\n",
       "    <tr>\n",
       "      <th>...</th>\n",
       "      <td>...</td>\n",
       "      <td>...</td>\n",
       "      <td>...</td>\n",
       "      <td>...</td>\n",
       "      <td>...</td>\n",
       "      <td>...</td>\n",
       "      <td>...</td>\n",
       "      <td>...</td>\n",
       "      <td>...</td>\n",
       "      <td>...</td>\n",
       "      <td>...</td>\n",
       "      <td>...</td>\n",
       "    </tr>\n",
       "    <tr>\n",
       "      <th>21995</th>\n",
       "      <td>https://www.dice.com/jobs/detail/Web-Designer-...</td>\n",
       "      <td>IAC Publishing</td>\n",
       "      <td>Full Time</td>\n",
       "      <td>Company Description We are searching for a ta...</td>\n",
       "      <td>Dice Id : 10112803</td>\n",
       "      <td>Oakland, CA</td>\n",
       "      <td>Web Designer</td>\n",
       "      <td>3 weeks ago</td>\n",
       "      <td>Telecommuting not available|Travel not required</td>\n",
       "      <td>NaN</td>\n",
       "      <td>UI/UX mobile apps, interaction design, digital...</td>\n",
       "      <td>86e27ce6b7e631e55d69d142c7d43df2</td>\n",
       "    </tr>\n",
       "    <tr>\n",
       "      <th>21996</th>\n",
       "      <td>https://www.dice.com/jobs/detail/Senior-Front-...</td>\n",
       "      <td>Omega Solutions Inc</td>\n",
       "      <td>Full Time</td>\n",
       "      <td>CONTACT - priya@omegasolutioninc.com / 408-45...</td>\n",
       "      <td>Dice Id : 10289500</td>\n",
       "      <td>San Francisco, CA</td>\n",
       "      <td>Senior Front End Web Developer - Full Time at ...</td>\n",
       "      <td>3 weeks ago</td>\n",
       "      <td>Telecommuting not available|Travel not required</td>\n",
       "      <td>NaN</td>\n",
       "      <td>JavaScript, HTML5, CSS3, Bootstrap, AJAX, Reac...</td>\n",
       "      <td>4287c7ee3317ccf1edd76e238cf8e584</td>\n",
       "    </tr>\n",
       "    <tr>\n",
       "      <th>21997</th>\n",
       "      <td>https://www.dice.com/jobs/detail/QA-Analyst-Sa...</td>\n",
       "      <td>San Francisco Health Plan</td>\n",
       "      <td>Full Time</td>\n",
       "      <td>Do you take pride in your work knowing that th...</td>\n",
       "      <td>Dice Id : 10115761</td>\n",
       "      <td>San Francisco, CA</td>\n",
       "      <td>QA Analyst</td>\n",
       "      <td>2 weeks ago</td>\n",
       "      <td>Telecommuting not available|Travel not required</td>\n",
       "      <td>NaN</td>\n",
       "      <td>SDLC, ALM, SQL, T-SQL, RedGate, Team Foundatio...</td>\n",
       "      <td>d7512f0181d69f83f96db38cd77a4d08</td>\n",
       "    </tr>\n",
       "    <tr>\n",
       "      <th>21998</th>\n",
       "      <td>https://www.dice.com/jobs/detail/Tech-Lead%252...</td>\n",
       "      <td>IAC Publishing</td>\n",
       "      <td>Full Time</td>\n",
       "      <td>Company Description What We Can Offer YouAs th...</td>\n",
       "      <td>Dice Id : 10112803</td>\n",
       "      <td>Oakland, CA</td>\n",
       "      <td>Tech Lead-Full Stack</td>\n",
       "      <td>2 weeks ago</td>\n",
       "      <td>Telecommuting not available|Travel not required</td>\n",
       "      <td>NaN</td>\n",
       "      <td>Python, Ruby, Go, Clojure, Java, NoSQL-Databas...</td>\n",
       "      <td>ec375268b494b3bcbed1635d64226112</td>\n",
       "    </tr>\n",
       "    <tr>\n",
       "      <th>21999</th>\n",
       "      <td>https://www.dice.com/jobs/detail/C%2526%252347...</td>\n",
       "      <td>Technology Resource Group</td>\n",
       "      <td>Full Time, Full Time</td>\n",
       "      <td>Experience in C/C++ ProgrammingDevelopment exp...</td>\n",
       "      <td>Dice Id : 90734436</td>\n",
       "      <td>Santa Clara, CA</td>\n",
       "      <td>C/C++ Programmer</td>\n",
       "      <td>2 weeks ago</td>\n",
       "      <td>Telecommuting not available|Travel not required</td>\n",
       "      <td>NaN</td>\n",
       "      <td>Null</td>\n",
       "      <td>9a4e8c27f74af4c0d2f6efbd420a8a91</td>\n",
       "    </tr>\n",
       "  </tbody>\n",
       "</table>\n",
       "<p>22000 rows × 12 columns</p>\n",
       "</div>"
      ],
      "text/plain": [
       "                                           advertiserurl  \\\n",
       "0      https://www.dice.com/jobs/detail/AUTOMATION-TE...   \n",
       "1      https://www.dice.com/jobs/detail/Information-S...   \n",
       "2      https://www.dice.com/jobs/detail/Business-Solu...   \n",
       "3      https://www.dice.com/jobs/detail/Java-Develope...   \n",
       "4      https://www.dice.com/jobs/detail/DevOps-Engine...   \n",
       "...                                                  ...   \n",
       "21995  https://www.dice.com/jobs/detail/Web-Designer-...   \n",
       "21996  https://www.dice.com/jobs/detail/Senior-Front-...   \n",
       "21997  https://www.dice.com/jobs/detail/QA-Analyst-Sa...   \n",
       "21998  https://www.dice.com/jobs/detail/Tech-Lead%252...   \n",
       "21999  https://www.dice.com/jobs/detail/C%2526%252347...   \n",
       "\n",
       "                                 company  \\\n",
       "0      Digital Intelligence Systems, LLC   \n",
       "1      University of Chicago/IT Services   \n",
       "2                   Galaxy Systems, Inc.   \n",
       "3                          TransTech LLC   \n",
       "4                       Matrix Resources   \n",
       "...                                  ...   \n",
       "21995                     IAC Publishing   \n",
       "21996                Omega Solutions Inc   \n",
       "21997          San Francisco Health Plan   \n",
       "21998                     IAC Publishing   \n",
       "21999          Technology Resource Group   \n",
       "\n",
       "                                employmenttype_jobstatus  \\\n",
       "0      C2H Corp-To-Corp, C2H Independent, C2H W2, 3 M...   \n",
       "1                                              Full Time   \n",
       "2                                              Full Time   \n",
       "3                                              Full Time   \n",
       "4                                              Full Time   \n",
       "...                                                  ...   \n",
       "21995                                          Full Time   \n",
       "21996                                          Full Time   \n",
       "21997                                          Full Time   \n",
       "21998                                          Full Time   \n",
       "21999                               Full Time, Full Time   \n",
       "\n",
       "                                          jobdescription               jobid  \\\n",
       "0      Looking for Selenium engineers...must have sol...  Dice Id : 10110693   \n",
       "1      The University of Chicago has a rapidly growin...  Dice Id : 10114469   \n",
       "2      GalaxE.SolutionsEvery day, our solutions affec...  Dice Id : CXGALXYS   \n",
       "3      Java DeveloperFull-time/direct-hireBolingbrook...  Dice Id : 10113627   \n",
       "4      Midtown based high tech firm has an immediate ...  Dice Id : matrixga   \n",
       "...                                                  ...                 ...   \n",
       "21995   Company Description We are searching for a ta...  Dice Id : 10112803   \n",
       "21996   CONTACT - priya@omegasolutioninc.com / 408-45...  Dice Id : 10289500   \n",
       "21997  Do you take pride in your work knowing that th...  Dice Id : 10115761   \n",
       "21998  Company Description What We Can Offer YouAs th...  Dice Id : 10112803   \n",
       "21999  Experience in C/C++ ProgrammingDevelopment exp...  Dice Id : 90734436   \n",
       "\n",
       "      joblocation_address                                           jobtitle  \\\n",
       "0             Atlanta, GA                           AUTOMATION TEST ENGINEER   \n",
       "1             Chicago, IL                      Information Security Engineer   \n",
       "2          Schaumburg, IL                       Business Solutions Architect   \n",
       "3         Bolingbrook, IL  Java Developer (mid level)- FT- GREAT culture,...   \n",
       "4             Atlanta, GA                                    DevOps Engineer   \n",
       "...                   ...                                                ...   \n",
       "21995         Oakland, CA                                       Web Designer   \n",
       "21996   San Francisco, CA  Senior Front End Web Developer - Full Time at ...   \n",
       "21997   San Francisco, CA                                         QA Analyst   \n",
       "21998         Oakland, CA                               Tech Lead-Full Stack   \n",
       "21999     Santa Clara, CA                                   C/C++ Programmer   \n",
       "\n",
       "             postdate                                            shift  \\\n",
       "0          1 hour ago  Telecommuting not available|Travel not required   \n",
       "1          1 week ago  Telecommuting not available|Travel not required   \n",
       "2         2 weeks ago  Telecommuting not available|Travel not required   \n",
       "3         2 weeks ago  Telecommuting not available|Travel not required   \n",
       "4      48 minutes ago  Telecommuting not available|Travel not required   \n",
       "...               ...                                              ...   \n",
       "21995     3 weeks ago  Telecommuting not available|Travel not required   \n",
       "21996     3 weeks ago  Telecommuting not available|Travel not required   \n",
       "21997     2 weeks ago  Telecommuting not available|Travel not required   \n",
       "21998     2 weeks ago  Telecommuting not available|Travel not required   \n",
       "21999     2 weeks ago  Telecommuting not available|Travel not required   \n",
       "\n",
       "      site_name                                             skills  \\\n",
       "0           NaN                                          SEE BELOW   \n",
       "1           NaN  linux/unix, network monitoring, incident respo...   \n",
       "2           NaN  Enterprise Solutions Architecture, business in...   \n",
       "3           NaN                         Please see job description   \n",
       "4           NaN  Configuration Management, Developer, Linux, Ma...   \n",
       "...         ...                                                ...   \n",
       "21995       NaN  UI/UX mobile apps, interaction design, digital...   \n",
       "21996       NaN  JavaScript, HTML5, CSS3, Bootstrap, AJAX, Reac...   \n",
       "21997       NaN  SDLC, ALM, SQL, T-SQL, RedGate, Team Foundatio...   \n",
       "21998       NaN  Python, Ruby, Go, Clojure, Java, NoSQL-Databas...   \n",
       "21999       NaN                                               Null   \n",
       "\n",
       "                                uniq_id  \n",
       "0      418ff92580b270ef4e7c14f0ddfc36b4  \n",
       "1      8aec88cba08d53da65ab99cf20f6f9d9  \n",
       "2      46baa1f69ac07779274bcd90b85d9a72  \n",
       "3      3941b2f206ae0f900c4fba4ac0b18719  \n",
       "4      45efa1f6bc65acc32bbbb953a1ed13b7  \n",
       "...                                 ...  \n",
       "21995  86e27ce6b7e631e55d69d142c7d43df2  \n",
       "21996  4287c7ee3317ccf1edd76e238cf8e584  \n",
       "21997  d7512f0181d69f83f96db38cd77a4d08  \n",
       "21998  ec375268b494b3bcbed1635d64226112  \n",
       "21999  9a4e8c27f74af4c0d2f6efbd420a8a91  \n",
       "\n",
       "[22000 rows x 12 columns]"
      ]
     },
     "execution_count": 3,
     "metadata": {},
     "output_type": "execute_result"
    }
   ],
   "source": [
    "df"
   ]
  },
  {
   "cell_type": "code",
   "execution_count": 4,
   "id": "7037a6ba",
   "metadata": {},
   "outputs": [
    {
     "data": {
      "application/vnd.microsoft.datawrangler.viewer.v0+json": {
       "columns": [
        {
         "name": "skills",
         "rawType": "object",
         "type": "string"
        },
        {
         "name": "count",
         "rawType": "int64",
         "type": "integer"
        }
       ],
       "ref": "70c13f83-0509-4fed-bfda-c6789677d22b",
       "rows": [
        [
         "Telecommuting not available Travel not required",
         "141"
        ],
        [
         "See job description",
         "77"
        ],
        [
         "TAD PGS, INC. specializes in delivering secure, reliable and rapidly implemented workforce solutions to the U.S. Federal marketplace, including U.S. Government agencies and their prime contractors. Wi",
         "64"
        ],
        [
         "Full Time",
         "54"
        ],
        [
         "Customer Service, Development, Management, Networking",
         "52"
        ],
        [
         "Contract W2",
         "46"
        ],
        [
         "Refer to Job Description",
         "39"
        ],
        [
         "See job overview.",
         "36"
        ],
        [
         "Please refer to Job Description",
         "36"
        ],
        [
         "Customer Service, Database, Development, Networking, Recruiter",
         "29"
        ],
        [
         "Customer Service, Recruiter",
         "28"
        ],
        [
         "Project Manager",
         "22"
        ],
        [
         "Full Time, Full Time",
         "21"
        ],
        [
         "See Job Description",
         "19"
        ],
        [
         "Java",
         "19"
        ],
        [
         "Business Analyst",
         "15"
        ],
        [
         "(See Job Description)",
         "13"
        ],
        [
         "SAP Ariba Consultant, SAP Ariba Consulting, SAP Ariba Implementation, Senior SAP Ariba Consultant",
         "13"
        ],
        [
         "Ariba, Consulting, CRM, Development, Excel, HTML, HTTP, Lifecycle, Manager, Management, Project, Project Manager, Recruiter, Research, SAP, Supply Chain, Testing",
         "12"
        ],
        [
         "Network Engineer",
         "12"
        ],
        [
         "Null",
         "11"
        ],
        [
         "java",
         "11"
        ],
        [
         "Analysis, Development, Director, Management, MS Office",
         "11"
        ],
        [
         "Customer Service, Development, HTTP, Management, Materials, Networking, Video",
         "10"
        ],
        [
         "Java Developer",
         "10"
        ],
        [
         "CISSP - GCIA - Three years - SIEM - analyze data - TCP/IP - IT Infrastructure - networking protocols, firewall functionality, host network intrusion detection systems, operating systems, databases,",
         "10"
        ],
        [
         "SQL",
         "10"
        ],
        [
         "javascript",
         "9"
        ],
        [
         "Engineering General",
         "9"
        ],
        [
         "Customer Service, Development, Management, Networking, Sun",
         "9"
        ],
        [
         "Software Engineer",
         "9"
        ],
        [
         "JavaScript",
         "9"
        ],
        [
         "Development, Manager, Management, Materials, Sales, Scheduling, Testing",
         "8"
        ],
        [
         ".Net",
         "8"
        ],
        [
         "Please refer to job description",
         "8"
        ],
        [
         "Technical Writer",
         "8"
        ],
        [
         "Analysis, Development, Director, Management, MS Office, Sun",
         "7"
        ],
        [
         "Scrum Master",
         "7"
        ],
        [
         "Consulting, CRM, Development, Excel, HTML, HTTP, Lifecycle, Manager, Management, Project, Project Manager, Recruiter, Research, SAP, Supply Chain, Testing",
         "7"
        ],
        [
         ".Net Developer",
         "7"
        ],
        [
         "Ariba, Consulting, CRM, Development, Excel, HTML, HTTP, Lifecycle, Management, Recruiter, Research, SAP, Supply Chain, Testing",
         "7"
        ],
        [
         "Project Management",
         "7"
        ],
        [
         "C++",
         "7"
        ],
        [
         "Computers General",
         "7"
        ],
        [
         "Contract Independent, Contract W2",
         "7"
        ],
        [
         "DevOps, AWS, Hudson, Jenkins, CruiseControl, Chef, Puppet, Salt, Ansible, Python, Ruby, Java, C#, CloudTrail, CloudWatch, CloudFormation, OpsWorks, IAM, EC2, Route 53, S3, RDS, SES, VPC,",
         "7"
        ],
        [
         "QA, Java, Linux, FIX",
         "6"
        ],
        [
         "Software Development",
         "6"
        ],
        [
         "Salesforce",
         "6"
        ],
        [
         "Linux",
         "6"
        ]
       ],
       "shape": {
        "columns": 1,
        "rows": 18972
       }
      },
      "text/plain": [
       "skills\n",
       "Telecommuting not available Travel not required                                                                                                                                                             141\n",
       "See job description                                                                                                                                                                                          77\n",
       "TAD PGS, INC. specializes in delivering secure, reliable and rapidly implemented workforce solutions to the U.S. Federal marketplace, including U.S. Government agencies and their prime contractors. Wi     64\n",
       "Full Time                                                                                                                                                                                                    54\n",
       "Customer Service, Development, Management, Networking                                                                                                                                                        52\n",
       "                                                                                                                                                                                                           ... \n",
       "UX Designer, UI Developer, designer, interaction designer, visual designer, HTML, CSS3, responsive design, drupal, Github,                                                                                    1\n",
       "selenium testing automation                                                                                                                                                                                   1\n",
       "(INFORMATION SECURITY over 1 year(s) OR CYBER SECURITY over 1 year(s) OR SECURITY over 1 year(s) ) AND(FIREEYE OR FIRE EYE )                                                                                  1\n",
       "C and C++, Linux, UNIX                                                                                                                                                                                        1\n",
       ".NET , C#, MVC, RESTful web services, HTTP, AWS, Azure, OOP                                                                                                                                                   1\n",
       "Name: count, Length: 18972, dtype: int64"
      ]
     },
     "execution_count": 4,
     "metadata": {},
     "output_type": "execute_result"
    }
   ],
   "source": [
    "df['skills'].value_counts()"
   ]
  },
  {
   "cell_type": "code",
   "execution_count": 6,
   "id": "d89b6272",
   "metadata": {},
   "outputs": [],
   "source": [
    "df['skills'] = df['skills'].str.lower()"
   ]
  },
  {
   "cell_type": "code",
   "execution_count": 8,
   "id": "cc162e07",
   "metadata": {},
   "outputs": [
    {
     "data": {
      "application/vnd.microsoft.datawrangler.viewer.v0+json": {
       "columns": [
        {
         "name": "index",
         "rawType": "int64",
         "type": "integer"
        },
        {
         "name": "skills",
         "rawType": "object",
         "type": "string"
        }
       ],
       "ref": "c457ccca-ec89-4a77-a63d-ffe69a71b7ff",
       "rows": [
        [
         "42",
         "description do you want to help build a highly personalized homepage that greets each of our millions of customers worldwide every time they visit amazon.com? are you interested in building data pipelines that process petabytes of customer behavior data? amazon's homepage personalization team develops and supports personalization and recommendations for amazon customers across music, books, movies, fashion, and everything else that amazon offers. we analyze petabytes of implicit and explicit feedback data on our hundreds of millions of customers and billions of products in order to guide the development of a meaningful and highly personalized homepage experience. we are looking for an experienced and forward thinking software engineer with a focus on data engineering to join our team. this person will work closely with other software engineers and machine learning scientists to design and implement predictive, scalable models for everything from product recommendations to personalized mobile content layouts. you will work directly with machine learning scientists to scale up collaborative filtering models on retail purchases, prime video views, prime music streams, and other amazon data to deeply understand our customers. this is one of the foremost roles in data engineering with the opportunity to reach millions of customers on one of the highest traffic consumer websites in the world. if you are passionate about data engineering, software engineering and personalization at scale then we encourage you to apply. basic qualifications - bs or ms degree in computer science or related field. - strong coding experience, preferably with scala, python, java, or c++. - strong grasp of data structures and algorithms. - ability to explain complex issues in technical and non-technical terms. - cares deeply about agile software practices, data driven development, and collaborating with other engineers and researchers. - working knowledge of hadoop, spark, redshift, dynamodb, kinesis, or other big data technologies. preferred qualifications - experience with supervised and unsupervised machine learning models. - experience with collaborative filtering and recommender systems. - experience running and evaluating ab tests."
        ],
        [
         "66",
         "devops engineer, system engineer, build release engineer, python, shell, perl, bash, linux, unix, rhel, centos, perforce, jenkins, maven, continuous integration"
        ],
        [
         "70",
         "application, c++, development, engineer, engineering, j2ee, java, linux, network, programming, python, shell script, software, system"
        ],
        [
         "74",
         "developer, hardware, java, linux, python, software, systems"
        ],
        [
         "77",
         "algorithms, c++, developer, development, javascript, libraries, linux, network, performance, perl, programming, protocols, python, software, system, systems, tcp/ip, unix"
        ],
        [
         "93",
         "developer, development, http, java, javascript, lifecycle, management, programming, project, python, release, risk management, scheduling, sql, testing"
        ],
        [
         "112",
         "agile, css, html, http, manager, python"
        ],
        [
         "152",
         "agile, analysis, apache, automated, css, development, git, html, http, j2ee, java, javascript, jquery, management, matlab, modeling, python, research, scrum, security, soap, web server"
        ],
        [
         "182",
         "analysis, architecture, css, data architecture, data mining, data modeling, html, http, modeling, mongodb, nosql, postgresql, programming, python, sql"
        ],
        [
         "185",
         "technical direction, java, scala, python, big data, hadoop, spark, kafka, cassandra, hbase, agile, infrastructure, scalability, distributed applications, multi-threading, designing, development"
        ],
        [
         "188",
         "access, application, applications, business requirements, consulting, developer, development, it, java, javascript, middleware, oracle, performance, python, software, specification, sql, telecom, web, web developer"
        ],
        [
         "223",
         "access, adobe, analyst, api, applications, browser, browsers, computer, consulting, database, development, flash, graphic designer, html, it, javascript, linux, manager, management, mysql, mysql, php, programmer, programming, python, scripts, sql, sql server, telecom, testing, web, windows"
        ],
        [
         "245",
         "algorithms, analysis, apache, case, css, data analysis, data mining, development, hadoop, html, http, java, management, matlab, nosql, programming, project, python, sql, use case"
        ],
        [
         "272",
         "access, basic, computer, consulting, development, engineer, engineering, engineers, it, javascript, management, micro, next, php, python, quality, scheduling, security, software, systems, telecom, testing, ux, web"
        ],
        [
         "281",
         "skills and experience required * full-stack engineer with 5+ years of development experience in javascript, html5 and python * extensive knowledge of node.js * angular framework preferred * experi"
        ],
        [
         "341",
         "python, spark, apache spark, cassandra, scala, hadoop - python, spark, apache spark, cassandra, scala, hadoop"
        ],
        [
         "342",
         "elixir, python, ruby on rails - elixir, python, ruby on rails"
        ],
        [
         "352",
         "linux, linux kernel, ip networking, c++, python - linux, linux kernel, ip networking, c++, python"
        ],
        [
         "358",
         "big data / python / apache spark / scala / hadoop / hive /"
        ],
        [
         "382",
         "python, big data processing, (kafka/spark/storm), aws - python, big data processing, (kafka/spark/storm), aws"
        ],
        [
         "461",
         "web application development, javascript, javascript frameworks, python, java, relational databases, rest, agile, aws, python/java frameworks - web application development, javascript, javascript frameworks, python, java, relational databases, rest, agile, aws, python/java frameworks"
        ],
        [
         "472",
         "django, javascript frameworks, python - django, javascript frameworks, python"
        ],
        [
         "512",
         "buildroot, git, c, perl, python, arm, x86 - buildroot, git, c, perl, python, arm, x86"
        ],
        [
         "515",
         "javascript, python, ruby on rails, aws - javascript, python, ruby on rails, aws"
        ],
        [
         "539",
         "ph.d in physics, electrical engineering, python, cryongenics, superconducting circuit design"
        ],
        [
         "541",
         "clinical programming, 21cfr part 11, hipaa., linux shell scripting, python"
        ],
        [
         "547",
         "sql, python, r,, java , power bi, tableau, d3js - cloud platforms: azure, aws - database design, etls (sql and nosql)"
        ],
        [
         "645",
         "python, javascript, web development, rapid prototype, data, web developer, software engineer, pandas, celery, flask, cloud, aws, elastic beanstalk, redshift, s3, ec2"
        ],
        [
         "687",
         "openstack, cloud foundry, aws, big data, mongodb, logstash, java, scala and python, microservices, java, jsp, jboss, mysql, nosql (cassandra), rabbitmq, aws web services, apigee, linux"
        ],
        [
         "714",
         "machine learning, deep learning, statistical analysis, mathematics, python, linux, bash, hadoop, computer science"
        ],
        [
         "722",
         "javascript, selenium, agile, sql, jenkins, jira, github, scrum, python"
        ],
        [
         "728",
         "data mining, predictive modeling, forecasting, sas, python,"
        ],
        [
         "787",
         "java, python, junit, databases; aws; micro services; big data technologies"
        ],
        [
         "800",
         "agile, automated, automotive, bash, configuration management, development, hudson, java, jenkins, linux, management, networking, perl, python, release, scrum, testing, vmware, windows"
        ],
        [
         "803",
         "performance engineer, test automation framework, automation tests, stability, quality assurance, java, jmeter, load runner, selenium, cucumber, soap ui, black box, testing, python, regression, qa"
        ],
        [
         "806",
         "matlab, r, and python; scripting linux; linux clusters; optimizing/parallelizing code ; research computing; numerical methods, computational methodologies"
        ],
        [
         "813",
         "(\"automation engineer\" or \"qa automation\" or \"automation consultant\" or automation) and selenium and (soap or rest) and (jscript or vbscript or python or ruby) and mobile"
        ],
        [
         "848",
         "big data, bi, business intelligence, software engineer, computer science, hadoop, impala, spark, python, sql, cloud"
        ],
        [
         "853",
         "node; angular; dojo; python; javascript"
        ],
        [
         "899",
         "web development, python, javascript,"
        ],
        [
         "911",
         "1+ years of experience engineering ingestion and storage systems for big data environments. experience with statistical software and scripting languages (r, python) experience with machine lea"
        ],
        [
         "941",
         "\"data scientist\" r python tensorflow caffee scikit-learn theano"
        ],
        [
         "1012",
         "linux, programming, java, python, ruby"
        ],
        [
         "1016",
         "hadoop, hdfs, hive, hbase, map/reduce, python, data warehouse, etl, sql, spark, scala/python, nosql, aws, s3/redshift"
        ],
        [
         "1051",
         "user interface, javascript, python, agile, scrum, selenium, software test automation, gui automation, ui test frameworks, qtb, pep8"
        ],
        [
         "1053",
         "data analytics, python, r, cloud / azure / aws, sql / nosql"
        ],
        [
         "1061",
         "automation, selenium, nightwatchjs, jmeter, perl, python, sql"
        ],
        [
         "1117",
         "angularjs, reactjs, backbonejs, java, python, ror, git, full stack"
        ],
        [
         "1132",
         "excel, sql, python, vb, sas, matlab"
        ],
        [
         "1145",
         "devops, infrastructure, puppet, chef, systems, engineer, it, software, development, perl, java, python, c, c#, c++, oracle, javascript, google, amazon, aws, google"
        ]
       ],
       "shape": {
        "columns": 1,
        "rows": 1088
       }
      },
      "text/plain": [
       "42       description do you want to help build a highly...\n",
       "66       devops engineer, system engineer, build releas...\n",
       "70       application, c++, development, engineer, engin...\n",
       "74       developer, hardware, java, linux, python, soft...\n",
       "77       algorithms, c++, developer, development, javas...\n",
       "                               ...                        \n",
       "21951    software development, sql, java/javascript/pyt...\n",
       "21966    advanced java, restful api's, python, perl, di...\n",
       "21974                                     php / python / c\n",
       "21975    java, go/golang, and python, go/golang, go/gol...\n",
       "21998    python, ruby, go, clojure, java, nosql-databas...\n",
       "Name: skills, Length: 1088, dtype: object"
      ]
     },
     "execution_count": 8,
     "metadata": {},
     "output_type": "execute_result"
    }
   ],
   "source": [
    "df[df['skills'].str.contains('python', na=False)]['skills']"
   ]
  },
  {
   "cell_type": "code",
   "execution_count": null,
   "id": "fc38cbdb",
   "metadata": {},
   "outputs": [],
   "source": []
  }
 ],
 "metadata": {
  "kernelspec": {
   "display_name": ".venv",
   "language": "python",
   "name": "python3"
  },
  "language_info": {
   "codemirror_mode": {
    "name": "ipython",
    "version": 3
   },
   "file_extension": ".py",
   "mimetype": "text/x-python",
   "name": "python",
   "nbconvert_exporter": "python",
   "pygments_lexer": "ipython3",
   "version": "3.10.11"
  }
 },
 "nbformat": 4,
 "nbformat_minor": 5
}
